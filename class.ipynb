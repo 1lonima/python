{
 "cells": [
  {
   "cell_type": "code",
   "execution_count": 1,
   "id": "7402be52",
   "metadata": {},
   "outputs": [],
   "source": [
    "# class <class_name>:\n",
    "#     <methods>\n",
    "# obj = <class_name>()"
   ]
  },
  {
   "cell_type": "code",
   "execution_count": null,
   "id": "53bc405e",
   "metadata": {},
   "outputs": [],
   "source": [
    "class Hello: #the first letter of class is always capital letters #Class\n",
    "    def hello(): #method\n",
    "        print(\"hello world\")\n",
    "obj= Hello() #object\n",
    "obj.hello()"
   ]
  },
  {
   "cell_type": "code",
   "execution_count": 2,
   "id": "95ba365c",
   "metadata": {},
   "outputs": [
    {
     "name": "stdout",
     "output_type": "stream",
     "text": [
      "hello world\n"
     ]
    }
   ],
   "source": [
    "class Hello:\n",
    "    @staticmethod\n",
    "    def hello(): #method\n",
    "        print(\"hello world\")\n",
    "obj= Hello() #object\n",
    "obj.hello()"
   ]
  },
  {
   "cell_type": "code",
   "execution_count": 3,
   "id": "6930d614",
   "metadata": {},
   "outputs": [
    {
     "name": "stdout",
     "output_type": "stream",
     "text": [
      "hello world\n"
     ]
    }
   ],
   "source": [
    "class Hello:        #class\n",
    "   \n",
    "    def hello(self): #method #instead of word \"Self\" we can use other variable as well\n",
    "#def hello(e):\n",
    "         print(\"hello world\")\n",
    "obj= Hello() #object\n",
    "obj.hello()"
   ]
  },
  {
   "cell_type": "code",
   "execution_count": 5,
   "id": "c620d310",
   "metadata": {},
   "outputs": [
    {
     "name": "stdout",
     "output_type": "stream",
     "text": [
      "15000\n"
     ]
    }
   ],
   "source": [
    "class Cal:\n",
    "    def volume(self,l,b,h):\n",
    "        v = l*b*h\n",
    "        print(v)\n",
    "obj = Cal()\n",
    "obj.volume(100,50,3)"
   ]
  },
  {
   "cell_type": "code",
   "execution_count": 6,
   "id": "ebb35f6a",
   "metadata": {},
   "outputs": [
    {
     "name": "stdout",
     "output_type": "stream",
     "text": [
      "15000\n",
      "5000\n"
     ]
    }
   ],
   "source": [
    "class Cal:\n",
    "    def volume(self,l,b,h):\n",
    "        v = l*b*h\n",
    "        print(v)\n",
    "    def area(self,l,b):\n",
    "        a = l*b\n",
    "        print(a)\n",
    "obj = Cal()\n",
    "obj.volume(100,50,3)\n",
    "obj.area(100,50)"
   ]
  },
  {
   "cell_type": "code",
   "execution_count": 14,
   "id": "c62b92cf",
   "metadata": {},
   "outputs": [
    {
     "name": "stdout",
     "output_type": "stream",
     "text": [
      "Enter length = 5\n",
      "Enter breadth = 4\n",
      "Enter height =8\n",
      "160\n",
      "20\n"
     ]
    }
   ],
   "source": [
    "#Class having multiple function\n",
    "class Cal:\n",
    "    def __init__(self,l,b,h):\n",
    "        self.l = l #for 'self.l' we can use it as 'self.tiger' or any other variable\n",
    "        self.b = b\n",
    "        self.h = h\n",
    "        \n",
    "    def volume(self):\n",
    "        v = self.l*self.b*self.h\n",
    "        print(v)\n",
    "    def area(self):\n",
    "        a = self.l*self.b\n",
    "        print(a)\n",
    "l = int(input(\"Enter length = \"))\n",
    "b = int(input(\"Enter breadth = \"))\n",
    "h = int(input(\"Enter height =\"))\n",
    "obj = Cal(l,b,h)\n",
    "obj.volume()\n",
    "obj.area()"
   ]
  },
  {
   "cell_type": "code",
   "execution_count": 13,
   "id": "dea45537",
   "metadata": {},
   "outputs": [
    {
     "name": "stdout",
     "output_type": "stream",
     "text": [
      "Enter length = 5\n",
      "Enter breadth = 4\n",
      "Enter height =6\n",
      "120\n",
      "20\n"
     ]
    }
   ],
   "source": [
    "#Different Class\n",
    "class Volume:\n",
    "    def __init__(self,l,b,h):\n",
    "        self.l = l #for 'self.l' we can use it as 'self.tiger' or any other variable\n",
    "        self.b = b\n",
    "        self.h = h\n",
    "        \n",
    "    def volume(self):\n",
    "        v = self.l*self.b*self.h\n",
    "        print(v)\n",
    "class Area:\n",
    "    def __init__(self,l,b):\n",
    "        self.length= l\n",
    "        self.breadth = b\n",
    "    def area(self):\n",
    "        a = self.length*self.breadth\n",
    "        print(a)\n",
    "l = int(input(\"Enter length = \"))\n",
    "b = int(input(\"Enter breadth = \"))\n",
    "h = int(input(\"Enter height =\"))\n",
    "obj = Volume(l,b,h)\n",
    "obj.volume()\n",
    "obj1= Area(l,b)\n",
    "obj1.area()"
   ]
  },
  {
   "cell_type": "code",
   "execution_count": null,
   "id": "c32eb4d1",
   "metadata": {},
   "outputs": [],
   "source": []
  }
 ],
 "metadata": {
  "kernelspec": {
   "display_name": "Python 3 (ipykernel)",
   "language": "python",
   "name": "python3"
  },
  "language_info": {
   "codemirror_mode": {
    "name": "ipython",
    "version": 3
   },
   "file_extension": ".py",
   "mimetype": "text/x-python",
   "name": "python",
   "nbconvert_exporter": "python",
   "pygments_lexer": "ipython3",
   "version": "3.10.9"
  }
 },
 "nbformat": 4,
 "nbformat_minor": 5
}
