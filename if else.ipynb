{
 "cells": [
  {
   "cell_type": "code",
   "execution_count": 2,
   "id": "752a70eb",
   "metadata": {},
   "outputs": [],
   "source": [
    "#if <condition>:\n",
    "#    <operation>\n",
    "# elif <condition>\n",
    "#   <operation>\n",
    "#...\n",
    "\n",
    "# else:\n",
    "# <operation>"
   ]
  },
  {
   "cell_type": "code",
   "execution_count": 3,
   "id": "169b6aaf",
   "metadata": {},
   "outputs": [],
   "source": [
    "# < > <= >= == !="
   ]
  },
  {
   "cell_type": "code",
   "execution_count": 4,
   "id": "e4239dc9",
   "metadata": {},
   "outputs": [
    {
     "name": "stdout",
     "output_type": "stream",
     "text": [
      "False\n",
      "True\n"
     ]
    }
   ],
   "source": [
    "a = 10\n",
    "print(a>20)\n",
    "print(a<20)"
   ]
  },
  {
   "cell_type": "code",
   "execution_count": 2,
   "id": "56c49bbc",
   "metadata": {},
   "outputs": [
    {
     "name": "stdout",
     "output_type": "stream",
     "text": [
      "Enter a = 10\n",
      "10 is +ve\n"
     ]
    }
   ],
   "source": [
    "a = int(input(\"Enter a = \"))\n",
    "if a>=0:\n",
    "        print(a,\"is +ve\")\n",
    "else:\n",
    "        print(a,\"is -ve\")\n"
   ]
  },
  {
   "cell_type": "code",
   "execution_count": 8,
   "id": "059d9c04",
   "metadata": {},
   "outputs": [
    {
     "name": "stdout",
     "output_type": "stream",
     "text": [
      "Enter a = 3\n",
      "3 is odd\n"
     ]
    }
   ],
   "source": [
    "a = int(input(\"Enter a = \")) # double equals (==) is equals to and % sign means modulus\n",
    "if a%2==0:\n",
    "    print(a,\" is even\")\n",
    "else:\n",
    "    print(a,\"is odd\")"
   ]
  },
  {
   "cell_type": "code",
   "execution_count": 10,
   "id": "8c7abfca",
   "metadata": {},
   "outputs": [
    {
     "name": "stdout",
     "output_type": "stream",
     "text": [
      "Enter a = 10\n",
      "Enter b = 20\n",
      "20 is greater than  10\n"
     ]
    }
   ],
   "source": [
    "a = int(input(\"Enter a = \"))  # shift+tab= to arrange indentation, \":\" = indentation sign\n",
    "b = int(input(\"Enter b = \"))\n",
    "if a>b:\n",
    "    print(a,\"is greater than \",b)\n",
    "elif b>a:\n",
    "    print(b,\"is greater than \", a)\n",
    "else:\n",
    "    print(\"both are equal\")"
   ]
  },
  {
   "cell_type": "code",
   "execution_count": 1,
   "id": "3551322b",
   "metadata": {},
   "outputs": [
    {
     "name": "stdout",
     "output_type": "stream",
     "text": [
      "Enter a = 10\n",
      "Enter b = 20\n",
      "Enter + or -or * or /: %\n",
      "Invalid operator\n"
     ]
    }
   ],
   "source": [
    "a = int(input(\"Enter a = \"))  \n",
    "b = int(input(\"Enter b = \"))\n",
    "o = input(\"Enter + or -or * or /: \")\n",
    "if o == \"+\":\n",
    "    print(a+b)\n",
    "elif o == \"-\":\n",
    "    print(a-b)\n",
    "elif o == \"*\":\n",
    "    print(a*b)\n",
    "elif o ==\"/\":\n",
    "    print(a/b)\n",
    "else:\n",
    "    print(\"Invalid operator\")"
   ]
  },
  {
   "cell_type": "code",
   "execution_count": 13,
   "id": "16c4c8dc",
   "metadata": {},
   "outputs": [
    {
     "name": "stdout",
     "output_type": "stream",
     "text": [
      "Enter Physics mark:50\n",
      "Enter Chemistry mark:30\n",
      "Enter math mark:40\n",
      "Enter English mark:80\n",
      "Enter nepali mark:50\n",
      "Total = 250\n",
      "Per = 50.0\n",
      "Grade = C\n"
     ]
    }
   ],
   "source": [
    "physics = int(input(\"Enter Physics mark:\"))\n",
    "chemistry= int(input(\"Enter Chemistry mark:\"))\n",
    "math= int(input(\"Enter math mark:\"))\n",
    "english = int(input(\"Enter English mark:\"))\n",
    "nepali = int(input(\"Enter nepali mark:\"))\n",
    "\n",
    "total = physics + chemistry + math + english + nepali\n",
    "per = total/5\n",
    "\n",
    "if per>=80:\n",
    "    grade = \"A\"\n",
    "elif per>=60:\n",
    "    grade = \"B\"\n",
    "elif per >=45:\n",
    "    grade = \"C\"\n",
    "else:\n",
    "    grade = \"F\"\n",
    "\n",
    "print(\"Total =\", total)\n",
    "print(\"Per =\",per)\n",
    "print(\"Grade =\",grade)"
   ]
  },
  {
   "cell_type": "code",
   "execution_count": 14,
   "id": "2e9f1f3f",
   "metadata": {},
   "outputs": [],
   "source": [
    "# to put # in all line at once (ctrl+/)"
   ]
  },
  {
   "cell_type": "code",
   "execution_count": 15,
   "id": "123f6414",
   "metadata": {},
   "outputs": [],
   "source": [
    "# logical operators\n",
    "#and &\n",
    "#or |\n",
    "# and\n"
   ]
  },
  {
   "cell_type": "code",
   "execution_count": 3,
   "id": "f6ee8cef",
   "metadata": {},
   "outputs": [
    {
     "data": {
      "text/plain": [
       "True"
      ]
     },
     "execution_count": 3,
     "metadata": {},
     "output_type": "execute_result"
    }
   ],
   "source": [
    "# and\n",
    "1*0 == 0\n",
    "0*1 == 0\n",
    "0*0 == 0\n",
    "1*1 == 1"
   ]
  },
  {
   "cell_type": "code",
   "execution_count": 6,
   "id": "68743f4a",
   "metadata": {},
   "outputs": [
    {
     "data": {
      "text/plain": [
       "False"
      ]
     },
     "execution_count": 6,
     "metadata": {},
     "output_type": "execute_result"
    }
   ],
   "source": [
    "#or\n",
    "1+0==0\n",
    "0+1==0\n",
    "0+0==0\n",
    "1+1==1"
   ]
  },
  {
   "cell_type": "code",
   "execution_count": 23,
   "id": "667b6900",
   "metadata": {},
   "outputs": [
    {
     "name": "stdout",
     "output_type": "stream",
     "text": [
      "Enter Physics mark:32\n",
      "Enter Chemistry mark:32\n",
      "Enter math mark:32\n",
      "Enter English mark:32\n",
      "Enter nepali mark:32\n",
      "Total = 160\n",
      "Per = 32.0\n",
      "Grade = D\n"
     ]
    }
   ],
   "source": [
    "# nested if /else statement\n",
    "physics = int(input(\"Enter Physics mark:\"))\n",
    "chemistry= int(input(\"Enter Chemistry mark:\"))\n",
    "math= int(input(\"Enter math mark:\"))\n",
    "english = int(input(\"Enter English mark:\"))\n",
    "nepali = int(input(\"Enter nepali mark:\"))\n",
    "\n",
    "if physics>=32 and chemistry>=32 and math>=32 and english>=32 and nepali>=32:\n",
    "\n",
    "    total = physics + chemistry + math + english + nepali\n",
    "    per = total/5\n",
    "\n",
    "    if per>=80:\n",
    "        grade = \"A\"\n",
    "    elif per>=60:\n",
    "        grade = \"B\"\n",
    "    elif per >=45:\n",
    "        grade = \"C\"\n",
    "    elif per>=32:\n",
    "        grade = \"D\"\n",
    "    else:\n",
    "        grade = \"F\"\n",
    "\n",
    "    print(\"Total =\", total)\n",
    "    print(\"Per =\",per)\n",
    "    print(\"Grade =\",grade)\n",
    "else:\n",
    "    print(\"You have failed\")"
   ]
  },
  {
   "cell_type": "code",
   "execution_count": 24,
   "id": "02b185e3",
   "metadata": {},
   "outputs": [
    {
     "name": "stdout",
     "output_type": "stream",
     "text": [
      "Enter a = 0\n",
      "Enter b = 2\n",
      "Enter + or -or * or / /\n",
      "0.0\n"
     ]
    }
   ],
   "source": [
    "# when user enter the value \"0\" instead of other number\n",
    "a = int(input(\"Enter a = \"))  \n",
    "b = int(input(\"Enter b = \"))\n",
    "o = input(\"Enter + or -or * or / \")\n",
    "if o == \"+\":\n",
    "    print(a+b)\n",
    "elif o == \"-\":\n",
    "    print(a-b)\n",
    "elif o == \"*\":\n",
    "    print(a*b)\n",
    "elif o ==\"/\" and b!=0:\n",
    "    print(a/b)\n",
    "elif o == \"/\" and b==0:\n",
    "    print(\"The value of b can not be zero.\")\n",
    "else:\n",
    "    print(\"Invalid operator\")"
   ]
  },
  {
   "cell_type": "code",
   "execution_count": 25,
   "id": "2d605c17",
   "metadata": {},
   "outputs": [
    {
     "name": "stdout",
     "output_type": "stream",
     "text": [
      "Enter Physics mark:10\n",
      "Enter Chemistry mark:32\n",
      "Enter math mark:65\n",
      "Enter English mark:45\n",
      "Enter nepali mark:32\n",
      "You have failed\n"
     ]
    }
   ],
   "source": [
    "#use of \"or\" as option\n",
    "physics = int(input(\"Enter Physics mark:\"))\n",
    "chemistry= int(input(\"Enter Chemistry mark:\"))\n",
    "math= int(input(\"Enter math mark:\"))\n",
    "english = int(input(\"Enter English mark:\"))\n",
    "nepali = int(input(\"Enter nepali mark:\"))\n",
    "\n",
    "if physics>=32 and chemistry>=32 and math>=32 and english>=32 and nepali>=32:\n",
    "\n",
    "    total = physics + chemistry + math + english + nepali\n",
    "    per = total/5\n",
    "\n",
    "    if per>80 or per==80:\n",
    "        grade = \"A\"\n",
    "    elif per>60 or per==60:\n",
    "        grade = \"B\"\n",
    "    elif per >45 or per==45:\n",
    "        grade = \"C\"\n",
    "    elif per>32 or per==32:\n",
    "        grade = \"D\"\n",
    "    else:\n",
    "        grade = \"F\"\n",
    "\n",
    "    print(\"Total =\", total)\n",
    "    print(\"Per =\",per)\n",
    "    print(\"Grade =\",grade)\n",
    "else:\n",
    "    print(\"You have failed\")"
   ]
  },
  {
   "cell_type": "code",
   "execution_count": 26,
   "id": "45454a80",
   "metadata": {},
   "outputs": [
    {
     "name": "stdout",
     "output_type": "stream",
     "text": [
      "Enter Physics mark:10\n",
      "Enter Chemistry mark:32\n",
      "Enter math mark:85\n",
      "Enter English mark:96\n",
      "Enter nepali mark:45\n",
      "You have failed\n"
     ]
    }
   ],
   "source": [
    "physics = int(input(\"Enter Physics mark:\"))\n",
    "chemistry= int(input(\"Enter Chemistry mark:\"))\n",
    "math= int(input(\"Enter math mark:\"))\n",
    "english = int(input(\"Enter English mark:\"))\n",
    "nepali = int(input(\"Enter nepali mark:\"))\n",
    "\n",
    "if physics>=32 and chemistry>=32 and math>=32 and english>=32 and nepali>=32:\n",
    "\n",
    "    total = physics + chemistry + math + english + nepali\n",
    "    per = total/5\n",
    "\n",
    "    if per>=80 or per==80:\n",
    "        grade = \"A\"\n",
    "    elif per>=60 or per==60:\n",
    "        grade = \"B\"\n",
    "    elif per >=45 or per==45:\n",
    "        grade = \"C\"\n",
    "    elif per>=32 or per==32:\n",
    "        grade = \"D\"\n",
    "    else:\n",
    "        grade = \"F\"\n",
    "\n",
    "    print(\"Total =\", total)\n",
    "    print(\"Per =\",per)\n",
    "    print(\"Grade =\",grade)\n",
    "else:\n",
    "    print(\"You have failed\")"
   ]
  },
  {
   "cell_type": "code",
   "execution_count": null,
   "id": "b71dc2c9",
   "metadata": {},
   "outputs": [],
   "source": []
  }
 ],
 "metadata": {
  "kernelspec": {
   "display_name": "Python 3 (ipykernel)",
   "language": "python",
   "name": "python3"
  },
  "language_info": {
   "codemirror_mode": {
    "name": "ipython",
    "version": 3
   },
   "file_extension": ".py",
   "mimetype": "text/x-python",
   "name": "python",
   "nbconvert_exporter": "python",
   "pygments_lexer": "ipython3",
   "version": "3.10.9"
  }
 },
 "nbformat": 4,
 "nbformat_minor": 5
}
