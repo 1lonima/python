{
 "cells": [
  {
   "cell_type": "code",
   "execution_count": 1,
   "id": "6dcd943a",
   "metadata": {},
   "outputs": [],
   "source": [
    "#File\n",
    "# file = open('<file_name>','<modes>')\n",
    "#file.close()\n",
    "\n",
    "#with open('<file_name>','<modes>') as file:\n",
    "#    <operations>\n",
    "#Mode\n",
    "#create-> x\n",
    "#read -> r\n",
    "#write -> w\n",
    "# append-> a"
   ]
  },
  {
   "cell_type": "code",
   "execution_count": 2,
   "id": "bd19d61f",
   "metadata": {},
   "outputs": [],
   "source": [
    "#Creating a File\n",
    "file = open('data.txt', 'x')\n",
    "file.close()"
   ]
  },
  {
   "cell_type": "code",
   "execution_count": 3,
   "id": "d8f15a4c",
   "metadata": {},
   "outputs": [
    {
     "name": "stdout",
     "output_type": "stream",
     "text": [
      "The file is already  there\n"
     ]
    }
   ],
   "source": [
    "# if the file having the same has been already there #exception handling\n",
    "try:\n",
    "    file = open('data.txt', 'x')\n",
    "    file.close()\n",
    "except:\n",
    "    print(\"The file is already  there\")"
   ]
  },
  {
   "cell_type": "code",
   "execution_count": 6,
   "id": "3b841f54",
   "metadata": {},
   "outputs": [
    {
     "name": "stdout",
     "output_type": "stream",
     "text": [
      "1. Hello world\n",
      "2. Hello world\n",
      "3. Hello world\n",
      "4. Hello world\n",
      "5. Hello world\n",
      "6. Hello world\n",
      "7. Hello world\n",
      "\n"
     ]
    }
   ],
   "source": [
    "file = open('data.txt','r')\n",
    "x = file.read()\n",
    "print(x)\n",
    "file.close()"
   ]
  },
  {
   "cell_type": "code",
   "execution_count": 7,
   "id": "179e1216",
   "metadata": {},
   "outputs": [
    {
     "data": {
      "text/plain": [
       "str"
      ]
     },
     "execution_count": 7,
     "metadata": {},
     "output_type": "execute_result"
    }
   ],
   "source": [
    "type(x)"
   ]
  },
  {
   "cell_type": "code",
   "execution_count": 11,
   "id": "eac447d8",
   "metadata": {},
   "outputs": [
    {
     "data": {
      "text/plain": [
       "['1. Hello world',\n",
       " '2. Hello world',\n",
       " '3. Hello world',\n",
       " '4. Hello world',\n",
       " '5. Hello world',\n",
       " '6. Hello world',\n",
       " '7. Hello world',\n",
       " '']"
      ]
     },
     "execution_count": 11,
     "metadata": {},
     "output_type": "execute_result"
    }
   ],
   "source": [
    "y = x.split('\\n')\n",
    "y"
   ]
  },
  {
   "cell_type": "code",
   "execution_count": 14,
   "id": "2b145ba0",
   "metadata": {},
   "outputs": [
    {
     "data": {
      "text/plain": [
       "'2. Hello world'"
      ]
     },
     "execution_count": 14,
     "metadata": {},
     "output_type": "execute_result"
    }
   ],
   "source": [
    "y[1]"
   ]
  },
  {
   "cell_type": "code",
   "execution_count": 16,
   "id": "773dfa87",
   "metadata": {},
   "outputs": [
    {
     "name": "stdout",
     "output_type": "stream",
     "text": [
      "Enter i = 5\n"
     ]
    },
    {
     "data": {
      "text/plain": [
       "'5. Hello world'"
      ]
     },
     "execution_count": 16,
     "metadata": {},
     "output_type": "execute_result"
    }
   ],
   "source": [
    "i = int(input(\"Enter i = \"))\n",
    "y[i-1]"
   ]
  },
  {
   "cell_type": "code",
   "execution_count": 17,
   "id": "5ac45d74",
   "metadata": {},
   "outputs": [],
   "source": [
    "file = open('data1.txt','w')\n",
    "file.write('Hello world')\n",
    "file.close()"
   ]
  },
  {
   "cell_type": "code",
   "execution_count": 18,
   "id": "981708b7",
   "metadata": {},
   "outputs": [
    {
     "name": "stdout",
     "output_type": "stream",
     "text": [
      "Enter n =3\n",
      "Enter namecoke\n",
      "Enter price5\n",
      "Enter qty2\n",
      "Enter namefanta\n",
      "Enter price6\n",
      "Enter qty7\n",
      "Enter namesprite\n",
      "Enter price5\n",
      "Enter qty2\n",
      "coke 5 2 10\n",
      "fanta 6 7 42\n",
      "sprite 5 2 10\n",
      "\n"
     ]
    }
   ],
   "source": [
    "#WAP to create a billing system(product,price,qty,total, all_total)\n",
    "bill =\"\"\n",
    "all_total = 0\n",
    "n = int(input(\"Enter n = \"))\n",
    "for i in range(n):\n",
    "    name = input(\"Enter name = \")\n",
    "    price = int(input(\"Enter price = \"))\n",
    "    qty = int(input(\"Enter qty = \"))\n",
    "    total =price*qty\n",
    "    data = f\"{name} {price} {qty} {total}\\n\"\n",
    "    bill = bill + data\n",
    "\n",
    "print(bill)\n",
    "\n",
    "file =open('data1.txt','w')\n",
    "file.write(bill)\n",
    "file.close()"
   ]
  },
  {
   "cell_type": "code",
   "execution_count": 19,
   "id": "26b89078",
   "metadata": {},
   "outputs": [
    {
     "name": "stdout",
     "output_type": "stream",
     "text": [
      "coke 5 2 10\n",
      "fanta 6 7 42\n",
      "sprite 5 2 10\n",
      "\n"
     ]
    }
   ],
   "source": [
    "file = open('data1.txt','r')\n",
    "x = file.read()\n",
    "print(x)\n",
    "file.close()"
   ]
  },
  {
   "cell_type": "code",
   "execution_count": 21,
   "id": "fa91a198",
   "metadata": {},
   "outputs": [
    {
     "name": "stdout",
     "output_type": "stream",
     "text": [
      "Enter n = 2\n",
      "Enter name = pepsi\n",
      "Enter price = 5\n",
      "Enter qty = 7\n",
      "Enter name = mountain dew\n",
      "Enter price = 5\n",
      "Enter qty = 7\n",
      "pepsi 5 7 35\n",
      "mountain dew 5 7 35\n",
      "\n"
     ]
    }
   ],
   "source": [
    "#append mode\n",
    "bill =\"\"\n",
    "all_total = 0\n",
    "n = int(input(\"Enter n = \"))\n",
    "for i in range(n):\n",
    "    name = input(\"Enter name = \")\n",
    "    price = int(input(\"Enter price = \"))\n",
    "    qty = int(input(\"Enter qty = \"))\n",
    "    total =price*qty\n",
    "    data = f\"{name} {price} {qty} {total}\\n\"\n",
    "    bill = bill + data\n",
    "\n",
    "print(bill)\n",
    "\n",
    "file =open('data1.txt','a')\n",
    "file.write(bill)\n",
    "file.close()"
   ]
  },
  {
   "cell_type": "code",
   "execution_count": 22,
   "id": "df54f118",
   "metadata": {},
   "outputs": [
    {
     "name": "stdout",
     "output_type": "stream",
     "text": [
      "coke 5 2 10\n",
      "fanta 6 7 42\n",
      "sprite 5 2 10\n",
      "pepsi 5 7 35\n",
      "mountain dew 5 7 35\n",
      "\n"
     ]
    }
   ],
   "source": [
    "file = open('data1.txt','r')\n",
    "x = file.read() #print(file.read())\n",
    "print(x)\n",
    "file.close() #file.close"
   ]
  },
  {
   "cell_type": "code",
   "execution_count": 24,
   "id": "52846dcc",
   "metadata": {},
   "outputs": [
    {
     "data": {
      "text/plain": [
       "['coke 5 2 10',\n",
       " 'fanta 6 7 42',\n",
       " 'sprite 5 2 10',\n",
       " 'pepsi 5 7 35',\n",
       " 'mountain dew 5 7 35']"
      ]
     },
     "execution_count": 24,
     "metadata": {},
     "output_type": "execute_result"
    }
   ],
   "source": [
    "y = x.split('\\n') [0:-1]\n",
    "y"
   ]
  },
  {
   "cell_type": "code",
   "execution_count": 25,
   "id": "754a777c",
   "metadata": {},
   "outputs": [
    {
     "name": "stdout",
     "output_type": "stream",
     "text": [
      "coke 5 2 10\n",
      "fanta 6 7 42\n",
      "sprite 5 2 10\n",
      "pepsi 5 7 35\n",
      "mountain dew 5 7 35\n"
     ]
    }
   ],
   "source": [
    "#converting into list inside list format\n",
    "for i in y:\n",
    "    print(i)"
   ]
  },
  {
   "cell_type": "code",
   "execution_count": 26,
   "id": "263d209f",
   "metadata": {},
   "outputs": [
    {
     "name": "stdout",
     "output_type": "stream",
     "text": [
      "['coke', '5', '2', '10']\n",
      "['fanta', '6', '7', '42']\n",
      "['sprite', '5', '2', '10']\n",
      "['pepsi', '5', '7', '35']\n",
      "['mountain', 'dew', '5', '7', '35']\n"
     ]
    }
   ],
   "source": [
    "for i in y:\n",
    "    print(i.split())"
   ]
  },
  {
   "cell_type": "code",
   "execution_count": 27,
   "id": "381b0ee9",
   "metadata": {},
   "outputs": [
    {
     "data": {
      "text/plain": [
       "[['coke', '5', '2', '10'],\n",
       " ['fanta', '6', '7', '42'],\n",
       " ['sprite', '5', '2', '10'],\n",
       " ['pepsi', '5', '7', '35'],\n",
       " ['mountain', 'dew', '5', '7', '35']]"
      ]
     },
     "execution_count": 27,
     "metadata": {},
     "output_type": "execute_result"
    }
   ],
   "source": [
    "bill = []\n",
    "for i in y:\n",
    "    bill.append(i.split())\n",
    "bill"
   ]
  },
  {
   "cell_type": "code",
   "execution_count": 28,
   "id": "c66f22d4",
   "metadata": {},
   "outputs": [
    {
     "name": "stdout",
     "output_type": "stream",
     "text": [
      "0\n",
      "2\n",
      "0\n",
      "5\n",
      "5\n"
     ]
    }
   ],
   "source": [
    "for i in y:\n",
    "    print(i[-1])"
   ]
  },
  {
   "cell_type": "code",
   "execution_count": 30,
   "id": "32f1f14a",
   "metadata": {},
   "outputs": [
    {
     "data": {
      "text/plain": [
       "132"
      ]
     },
     "execution_count": 30,
     "metadata": {},
     "output_type": "execute_result"
    }
   ],
   "source": [
    "s = 0\n",
    "for i in bill:\n",
    "    s = s+ int(i[-1])\n",
    "s"
   ]
  },
  {
   "cell_type": "code",
   "execution_count": 33,
   "id": "54ceae27",
   "metadata": {},
   "outputs": [
    {
     "name": "stdout",
     "output_type": "stream",
     "text": [
      "Enter n = 2\n",
      "Enter name = coke\n",
      "Enter price = 60\n",
      "Enter qty = 4\n",
      "Enter name = Fanta\n",
      "Enter price = 50\n",
      "Enter qty = 5\n",
      "coke,60,4,240\n",
      "Fanta,50,5,250\n",
      "\n"
     ]
    }
   ],
   "source": [
    "#CSV(Comma separated value)- excel and spread sheet\n",
    "#WAP to create a billing system(product,price,qty,total, all_total)\n",
    "bill =\"\"\n",
    "all_total = 0\n",
    "n = int(input(\"Enter n = \"))\n",
    "for i in range(n):\n",
    "    name = input(\"Enter name = \")\n",
    "    price = int(input(\"Enter price = \"))\n",
    "    qty = int(input(\"Enter qty = \"))\n",
    "    total =price*qty\n",
    "    data = f\"{name},{price},{qty},{total}\\n\"\n",
    "    bill = bill + data\n",
    "\n",
    "print(bill)\n",
    "\n",
    "file =open('data1.csv','w')\n",
    "file.write('Name,Price,Quantity,Total\\n')\n",
    "file.write(bill)\n",
    "file.close()"
   ]
  },
  {
   "cell_type": "code",
   "execution_count": 34,
   "id": "a4a30e2b",
   "metadata": {},
   "outputs": [
    {
     "data": {
      "text/html": [
       "<div>\n",
       "<style scoped>\n",
       "    .dataframe tbody tr th:only-of-type {\n",
       "        vertical-align: middle;\n",
       "    }\n",
       "\n",
       "    .dataframe tbody tr th {\n",
       "        vertical-align: top;\n",
       "    }\n",
       "\n",
       "    .dataframe thead th {\n",
       "        text-align: right;\n",
       "    }\n",
       "</style>\n",
       "<table border=\"1\" class=\"dataframe\">\n",
       "  <thead>\n",
       "    <tr style=\"text-align: right;\">\n",
       "      <th></th>\n",
       "      <th>Name</th>\n",
       "      <th>Price</th>\n",
       "      <th>Quantity</th>\n",
       "      <th>Total</th>\n",
       "    </tr>\n",
       "  </thead>\n",
       "  <tbody>\n",
       "    <tr>\n",
       "      <th>0</th>\n",
       "      <td>coke</td>\n",
       "      <td>60</td>\n",
       "      <td>4</td>\n",
       "      <td>240</td>\n",
       "    </tr>\n",
       "    <tr>\n",
       "      <th>1</th>\n",
       "      <td>Fanta</td>\n",
       "      <td>50</td>\n",
       "      <td>5</td>\n",
       "      <td>250</td>\n",
       "    </tr>\n",
       "  </tbody>\n",
       "</table>\n",
       "</div>"
      ],
      "text/plain": [
       "    Name  Price  Quantity  Total\n",
       "0   coke     60         4    240\n",
       "1  Fanta     50         5    250"
      ]
     },
     "execution_count": 34,
     "metadata": {},
     "output_type": "execute_result"
    }
   ],
   "source": [
    "import pandas as pd\n",
    "df = pd.read_csv('data1.csv')\n",
    "df"
   ]
  },
  {
   "cell_type": "code",
   "execution_count": 32,
   "id": "e0d9305c",
   "metadata": {},
   "outputs": [
    {
     "data": {
      "text/plain": [
       "'C:\\\\Users\\\\risha\\\\python class'"
      ]
     },
     "execution_count": 32,
     "metadata": {},
     "output_type": "execute_result"
    }
   ],
   "source": [
    "pwd"
   ]
  },
  {
   "cell_type": "code",
   "execution_count": null,
   "id": "7ac08ac9",
   "metadata": {},
   "outputs": [],
   "source": []
  }
 ],
 "metadata": {
  "kernelspec": {
   "display_name": "Python 3 (ipykernel)",
   "language": "python",
   "name": "python3"
  },
  "language_info": {
   "codemirror_mode": {
    "name": "ipython",
    "version": 3
   },
   "file_extension": ".py",
   "mimetype": "text/x-python",
   "name": "python",
   "nbconvert_exporter": "python",
   "pygments_lexer": "ipython3",
   "version": "3.10.9"
  }
 },
 "nbformat": 4,
 "nbformat_minor": 5
}
