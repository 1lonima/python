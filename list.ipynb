{
 "cells": [
  {
   "cell_type": "code",
   "execution_count": null,
   "id": "52109e69",
   "metadata": {},
   "outputs": [],
   "source": [
    "# #Python Collection(how to store multiple data in a single variable)\n",
    "# #list\n",
    "# tuple\n",
    "# dict\n",
    "# set"
   ]
  },
  {
   "cell_type": "code",
   "execution_count": null,
   "id": "71749629",
   "metadata": {},
   "outputs": [],
   "source": [
    "# List\n",
    "# Indexing\n",
    "# Mulitple Data\n",
    "# Duplicate\n",
    "# Mutable"
   ]
  },
  {
   "cell_type": "code",
   "execution_count": null,
   "id": "dba60fe5",
   "metadata": {},
   "outputs": [],
   "source": [
    "l = []\n",
    "l = list()\n"
   ]
  },
  {
   "cell_type": "code",
   "execution_count": 1,
   "id": "34bbbcd4",
   "metadata": {},
   "outputs": [
    {
     "name": "stdout",
     "output_type": "stream",
     "text": [
      "<class 'list'>\n",
      "[1, 2, 3, 4, 5, 6, 7, 8, 9, 0]\n"
     ]
    }
   ],
   "source": [
    "a = [1,2,3,4,5,6,7,8,9,0]\n",
    "print(type(a))\n",
    "print(a)"
   ]
  },
  {
   "cell_type": "code",
   "execution_count": 5,
   "id": "9a038147",
   "metadata": {},
   "outputs": [
    {
     "name": "stdout",
     "output_type": "stream",
     "text": [
      "Apple\n",
      "['Apple', 'Ball', 'Cat', 'Dog']\n",
      "['Apple', 'Cat', 'Fish']\n",
      "Fish\n",
      "[]\n"
     ]
    }
   ],
   "source": [
    "a =[\"Apple\", \"Ball\", \"Cat\", \"Dog\", \"Fish\"]\n",
    "print(a[0])\n",
    "print(a[0:4])\n",
    "print(a[0:5:2])\n",
    "print(a[-1])\n",
    "print(a[-1:-"
   ]
  },
  {
   "cell_type": "code",
   "execution_count": 6,
   "id": "5c4db1d0",
   "metadata": {},
   "outputs": [
    {
     "data": {
      "text/plain": [
       "['Apple', 'Ball', 'Cat', 'Dog', 'Fish', 'Apple']"
      ]
     },
     "execution_count": 6,
     "metadata": {},
     "output_type": "execute_result"
    }
   ],
   "source": [
    "a =[\"Apple\", \"Ball\", \"Cat\", \"Dog\", \"Fish\",\"Apple\"]\n",
    "a"
   ]
  },
  {
   "cell_type": "code",
   "execution_count": 10,
   "id": "63a79b3b",
   "metadata": {},
   "outputs": [
    {
     "name": "stdout",
     "output_type": "stream",
     "text": [
      "[1, 2, 3, 2]\n"
     ]
    }
   ],
   "source": [
    "a =[1,2,3]\n",
    "b = [2]\n",
    "c = a+b\n",
    "print(c)"
   ]
  },
  {
   "cell_type": "code",
   "execution_count": 12,
   "id": "cb2193ab",
   "metadata": {},
   "outputs": [
    {
     "name": "stdout",
     "output_type": "stream",
     "text": [
      "[1, 2, 3, 1, 2, 3]\n"
     ]
    }
   ],
   "source": [
    "a = [1,2,3]\n",
    "b = 2\n",
    "c = a * b\n",
    "print(c)"
   ]
  },
  {
   "cell_type": "code",
   "execution_count": 14,
   "id": "85366553",
   "metadata": {},
   "outputs": [
    {
     "name": "stdout",
     "output_type": "stream",
     "text": [
      "Enter n =5\n",
      "Enter x=123\n",
      "Enter x=345\n",
      "Enter x=450\n",
      "Enter x=87\n",
      "Enter x=345\n",
      "[123, 345, 450, 87, 345]\n"
     ]
    }
   ],
   "source": [
    "l = []\n",
    "n = int(input(\"Enter n =\"))\n",
    "for i in range(n):\n",
    "    x = int(input(\"Enter x=\"))\n",
    "    l = l + [x]\n",
    "print(l)\n"
   ]
  },
  {
   "cell_type": "code",
   "execution_count": 16,
   "id": "77ee77a9",
   "metadata": {},
   "outputs": [
    {
     "name": "stdout",
     "output_type": "stream",
     "text": [
      "the max value= 456\n",
      "the min value= 87\n",
      "The sum = 1356\n"
     ]
    }
   ],
   "source": [
    "l = [123, 345, 456, 87, 345]\n",
    "print(\"the max value=\",max(l))\n",
    "print(\"the min value=\",min(l))\n",
    "print(\"The sum =\", sum(l))"
   ]
  },
  {
   "cell_type": "code",
   "execution_count": 17,
   "id": "76a12b05",
   "metadata": {},
   "outputs": [
    {
     "name": "stdout",
     "output_type": "stream",
     "text": [
      "[87, 123, 345, 345, 456]\n"
     ]
    }
   ],
   "source": [
    "l.sort()\n",
    "print(l)"
   ]
  },
  {
   "cell_type": "code",
   "execution_count": 18,
   "id": "a7ae5846",
   "metadata": {},
   "outputs": [
    {
     "name": "stdout",
     "output_type": "stream",
     "text": [
      "[456, 345, 345, 123, 87]\n"
     ]
    }
   ],
   "source": [
    "l.reverse()\n",
    "print(l)"
   ]
  },
  {
   "cell_type": "code",
   "execution_count": 19,
   "id": "06328702",
   "metadata": {},
   "outputs": [],
   "source": [
    "# add values\n",
    "#append() insert() extend()\n",
    "\n",
    "#delete values\n",
    "#del remove() pop()"
   ]
  },
  {
   "cell_type": "code",
   "execution_count": 21,
   "id": "6b3c24a3",
   "metadata": {},
   "outputs": [
    {
     "name": "stdout",
     "output_type": "stream",
     "text": [
      "Apple\n",
      "Ball\n",
      "Cat\n",
      "Dog\n",
      "Fish\n",
      "Apple\n"
     ]
    }
   ],
   "source": [
    "a =[\"Apple\", \"Ball\", \"Cat\", \"Dog\", \"Fish\",\"Apple\"]\n",
    "for i in a:\n",
    "    print(i)\n"
   ]
  },
  {
   "cell_type": "code",
   "execution_count": 22,
   "id": "5e52e6f4",
   "metadata": {},
   "outputs": [
    {
     "name": "stdout",
     "output_type": "stream",
     "text": [
      "Apple\n",
      "Ball\n",
      "Cat\n",
      "Dog\n",
      "Fish\n",
      "Apple\n"
     ]
    }
   ],
   "source": [
    "for i in range(len(a)):\n",
    "    print(a[i])"
   ]
  },
  {
   "cell_type": "code",
   "execution_count": 24,
   "id": "7ed43747",
   "metadata": {},
   "outputs": [
    {
     "name": "stdout",
     "output_type": "stream",
     "text": [
      "yes\n",
      "1\n"
     ]
    }
   ],
   "source": [
    "a = [\"Ram\", \"Shyam\",\"Hari\", \"Sita\",\"Nabin\",\"Ramesh\"]\n",
    "if \"Ram\" in a:\n",
    "    print(\"yes\")\n",
    "    print(a.count(\"Ram\"))\n",
    "else:\n",
    "    print('no')"
   ]
  },
  {
   "cell_type": "code",
   "execution_count": 25,
   "id": "30e7afa9",
   "metadata": {},
   "outputs": [],
   "source": [
    "# Write a program to search any value in a list have case insensitive"
   ]
  },
  {
   "cell_type": "code",
   "execution_count": 26,
   "id": "3a34b1e4",
   "metadata": {},
   "outputs": [
    {
     "name": "stdout",
     "output_type": "stream",
     "text": [
      "['Apple', 'Ball']\n"
     ]
    }
   ],
   "source": [
    "#append ()\n",
    "a = []\n",
    "a.append(\"Apple\")\n",
    "a.append(\"Ball\")\n",
    "print(a)"
   ]
  },
  {
   "cell_type": "code",
   "execution_count": 27,
   "id": "bcd3814b",
   "metadata": {},
   "outputs": [
    {
     "name": "stdout",
     "output_type": "stream",
     "text": [
      "[1, 2, 3, 4, 5, 'Apple', 'Ball']\n"
     ]
    }
   ],
   "source": [
    "a = [1,2,3,4,5]\n",
    "a.append(\"Apple\")\n",
    "a.append(\"Ball\")\n",
    "print(a)"
   ]
  },
  {
   "cell_type": "code",
   "execution_count": 28,
   "id": "00bad6d6",
   "metadata": {},
   "outputs": [
    {
     "name": "stdout",
     "output_type": "stream",
     "text": [
      "['Apple', 'Ball', 'Can', 'CAT', 'Fish', 'Egg', 'Ball']\n"
     ]
    }
   ],
   "source": [
    "# insert()\n",
    "a = ['Apple', 'Ball','CAT','Fish','Egg']\n",
    "a.insert(2,\"Can\")\n",
    "print(a)"
   ]
  },
  {
   "cell_type": "code",
   "execution_count": 30,
   "id": "44a26c2a",
   "metadata": {},
   "outputs": [
    {
     "name": "stdout",
     "output_type": "stream",
     "text": [
      "['Apple', 'Ball', 'CAT', 'Fish', 'Egg', 1, 2, 3, 4]\n"
     ]
    }
   ],
   "source": [
    "#extend()\n",
    "a = ['Apple', 'Ball','CAT','Fish','Egg']\n",
    "b = [1,2,3,4]\n",
    "a.extend(b)\n",
    "print(a)"
   ]
  },
  {
   "cell_type": "code",
   "execution_count": 31,
   "id": "827431ea",
   "metadata": {},
   "outputs": [
    {
     "name": "stdout",
     "output_type": "stream",
     "text": [
      "['Ant', 'Ball', 'CAT', 'Fish', 'Egg']\n"
     ]
    }
   ],
   "source": [
    "#update\n",
    "a = ['Apple', 'Ball','CAT','Fish','Egg']\n",
    "a[0]= \"Ant\"\n",
    "print(a)"
   ]
  },
  {
   "cell_type": "code",
   "execution_count": 32,
   "id": "f5e990a4",
   "metadata": {},
   "outputs": [
    {
     "data": {
      "text/plain": [
       "['Ant', 'Ball', 'CAT']"
      ]
     },
     "execution_count": 32,
     "metadata": {},
     "output_type": "execute_result"
    }
   ],
   "source": [
    "a = ['Apple', 'Ball','CAT','Fish','Egg']\n",
    "a[0]= \"Ant\"\n",
    "a[0:3]"
   ]
  },
  {
   "cell_type": "code",
   "execution_count": null,
   "id": "3386fa2b",
   "metadata": {},
   "outputs": [],
   "source": [
    "#delete\n",
    "#del remove()pop()"
   ]
  },
  {
   "cell_type": "code",
   "execution_count": 1,
   "id": "d4ea50b2",
   "metadata": {},
   "outputs": [
    {
     "name": "stdout",
     "output_type": "stream",
     "text": [
      "['Ball', 'CAT', 'Fish', 'Egg']\n"
     ]
    }
   ],
   "source": [
    "a = ['Apple', 'Ball','CAT','Fish','Egg']\n",
    "del a[0]\n",
    "print(a)"
   ]
  },
  {
   "cell_type": "code",
   "execution_count": 2,
   "id": "92839125",
   "metadata": {},
   "outputs": [
    {
     "name": "stdout",
     "output_type": "stream",
     "text": [
      "['Fish', 'Egg']\n"
     ]
    }
   ],
   "source": [
    "a = ['Apple', 'Ball','CAT','Fish','Egg']\n",
    "del a[0:3]\n",
    "print(a)"
   ]
  },
  {
   "cell_type": "code",
   "execution_count": 3,
   "id": "490ef4af",
   "metadata": {},
   "outputs": [
    {
     "name": "stdout",
     "output_type": "stream",
     "text": [
      "['Ball', 'CAT', 'Fish', 'Egg']\n"
     ]
    }
   ],
   "source": [
    "a = ['Apple', 'Ball','CAT','Fish','Egg']\n",
    "a.remove('Apple')\n",
    "print(a)"
   ]
  },
  {
   "cell_type": "code",
   "execution_count": 7,
   "id": "1d65c1a7",
   "metadata": {},
   "outputs": [
    {
     "name": "stdout",
     "output_type": "stream",
     "text": [
      "['Ball', 'CAT', 'Fish', 'Egg']\n"
     ]
    }
   ],
   "source": [
    "a = ['Apple', 'Ball','CAT','Fish','Egg','Apple']\n",
    "a.remove('Apple')\n",
    "a.remove('Apple')\n",
    "print(a)"
   ]
  },
  {
   "cell_type": "code",
   "execution_count": 6,
   "id": "b6252b1b",
   "metadata": {},
   "outputs": [
    {
     "name": "stdout",
     "output_type": "stream",
     "text": [
      "['Ball', 'CAT', 'Fish', 'Egg', 'apple']\n",
      "['Ball', 'CAT', 'Fish', 'Egg']\n"
     ]
    }
   ],
   "source": [
    "a = ['apple', 'Ball','CAT','Fish','Egg','apple']\n",
    "c = a.count('apple')\n",
    "for i in range(c):\n",
    "    a.remove('apple')\n",
    "    print(a)"
   ]
  },
  {
   "cell_type": "code",
   "execution_count": 9,
   "id": "028bfdaa",
   "metadata": {},
   "outputs": [
    {
     "name": "stdout",
     "output_type": "stream",
     "text": [
      "['Ball', 'CAT', 'Fish', 'Egg', 'apple']\n",
      "apple\n"
     ]
    }
   ],
   "source": [
    "a = ['apple', 'Ball','CAT','Fish','Egg','apple']\n",
    "b=a.pop(0)\n",
    "print(a)\n",
    "print(b)"
   ]
  },
  {
   "cell_type": "code",
   "execution_count": 10,
   "id": "d36468ba",
   "metadata": {},
   "outputs": [
    {
     "name": "stdout",
     "output_type": "stream",
     "text": [
      "[1, 2, 3]\n",
      "1\n"
     ]
    }
   ],
   "source": [
    "#list inside list\n",
    "a = [[1,2,3],\n",
    "     [4,5,6],\n",
    "     [7,8,9]]\n",
    "print(a[0])\n",
    "print(a[0][0])"
   ]
  },
  {
   "cell_type": "code",
   "execution_count": 11,
   "id": "8bbcf94e",
   "metadata": {},
   "outputs": [
    {
     "name": "stdout",
     "output_type": "stream",
     "text": [
      "[['Ram', 45, 'Kathmandu'], ['Shyam', 56, 'Lalitpur'], ['Hari', 89, 'Bhaktapur']]\n"
     ]
    }
   ],
   "source": [
    "a = [['Ram', 45, 'Kathmandu'],\n",
    "     ['Shyam',56, Lalitpur'],\n",
    "     ['Hari',89,'Bhaktapur']]\n",
    "print(a)"
   ]
  },
  {
   "cell_type": "code",
   "execution_count": 12,
   "id": "3a676f7f",
   "metadata": {},
   "outputs": [
    {
     "name": "stdout",
     "output_type": "stream",
     "text": [
      "Enter the value n =2\n",
      "Enter Name =Ram\n",
      "Enter Age =45\n",
      "Enter add =Kathmandu\n",
      "Enter Name =hari\n",
      "Enter Age =40\n",
      "Enter add =lalitpur\n",
      "[['Ram', 45, 'Kathmandu'], ['hari', 40, 'lalitpur']]\n"
     ]
    }
   ],
   "source": [
    "a = []\n",
    "n =int(input(\"Enter the value n =\"))\n",
    "for i in range(n):\n",
    "    name = input(\"Enter Name =\")\n",
    "    age = int(input(\"Enter Age =\"))\n",
    "    add = input(\"Enter add =\")\n",
    "    info = [name,age, add]\n",
    "    a.append(info)\n",
    "print(a)"
   ]
  },
  {
   "cell_type": "code",
   "execution_count": 15,
   "id": "14de0bc9",
   "metadata": {},
   "outputs": [
    {
     "name": "stdout",
     "output_type": "stream",
     "text": [
      "['Ram', 45, 'Kathmandu']\n",
      "['hari', 40, 'lalitpur']\n",
      "['shyam', 36, 'patan']\n",
      "['Ram', 35, 'Bharatpur']\n"
     ]
    }
   ],
   "source": [
    "#Search\n"
   ]
  },
  {
   "cell_type": "code",
   "execution_count": 20,
   "id": "7e5dcdcd",
   "metadata": {},
   "outputs": [
    {
     "name": "stdout",
     "output_type": "stream",
     "text": [
      "Ram\n",
      "Shyam\n",
      "Hari\n",
      "Ram\n"
     ]
    }
   ],
   "source": [
    "a = [['Ram', 45, 'Kathmandu'],\n",
    "     ['Shyam',56, 'Lalitpur'],\n",
    "     ['Hari',89,'Bhaktapur'],\n",
    "     ['Ram', 35, 'Bharatpur']]\n",
    "for i in a:\n",
    "     print(i[0])"
   ]
  },
  {
   "cell_type": "code",
   "execution_count": 24,
   "id": "6e8bf0b0",
   "metadata": {},
   "outputs": [
    {
     "name": "stdout",
     "output_type": "stream",
     "text": [
      "Enter the name :Ram\n",
      "['Ram', 45, 'Kathmandu']\n",
      "['Ram', 35, 'Bharatpur']\n"
     ]
    }
   ],
   "source": [
    "a = [['Ram', 45, 'Kathmandu'],\n",
    "     ['Shyam',56, 'Lalitpur'],\n",
    "     ['Hari',89,'Bhaktapur'],\n",
    "     ['Ram', 35, 'Bharatpur']]\n",
    "n = input(\"Enter the name :\")\n",
    "for i in a:\n",
    "    if i[0] == name:\n",
    "        print(i)\n"
   ]
  },
  {
   "cell_type": "code",
   "execution_count": 26,
   "id": "16166ee2",
   "metadata": {},
   "outputs": [
    {
     "name": "stdout",
     "output_type": "stream",
     "text": [
      "Enter name =Ram\n",
      "['Ram', 45, 'Kathmandu']\n",
      "['Ram', 35, 'Bharatpur']\n"
     ]
    }
   ],
   "source": [
    "a = [['Ram', 45, 'Kathmandu'],\n",
    "     ['Shyam',56, 'Lalitpur'],\n",
    "     ['Hari',89,'Bhaktapur'],\n",
    "     ['Ram', 35, 'Bharatpur']]\n",
    "name = input(\"Enter name =\")\n",
    "for i in a:\n",
    "    if name in i:\n",
    "        print(i)"
   ]
  },
  {
   "cell_type": "code",
   "execution_count": 30,
   "id": "43ecf6a8",
   "metadata": {},
   "outputs": [
    {
     "name": "stdout",
     "output_type": "stream",
     "text": [
      "Enter the name = Rishav\n",
      "There is no such name\n"
     ]
    }
   ],
   "source": [
    "a = [['Ram', 45, 'Kathmandu'],\n",
    "     ['Shyam',56, 'Lalitpur'],\n",
    "     ['Hari',89,'Bhaktapur'],\n",
    "     ['Ram', 35, 'Bharatpur']]\n",
    "n = input(\"Enter the name = \")\n",
    "for i in a:\n",
    "    if i[0].lower() == n.lower():\n",
    "        print(i)\n",
    "else:\n",
    "        print(\"There is no record\")"
   ]
  },
  {
   "cell_type": "code",
   "execution_count": 29,
   "id": "2434401d",
   "metadata": {},
   "outputs": [
    {
     "name": "stdout",
     "output_type": "stream",
     "text": [
      "[['Ram', 45, 'Kathmandu'], ['Shyam', 56, 'Lalitpur'], ['Hari', 89, 'Bhaktapur'], ['Ram', 35, 'Bharatpur'], ['Nabin', 67, 'Chitwan']]\n"
     ]
    }
   ],
   "source": [
    "#adding Data to list\n",
    "\n",
    "a = [['Ram', 45, 'Kathmandu'],\n",
    "     ['Shyam',56, 'Lalitpur'],\n",
    "     ['Hari',89,'Bhaktapur'],\n",
    "     ['Ram', 35, 'Bharatpur']]\n",
    "a.append(['Nabin',67,'Chitwan'])\n",
    "print(a)"
   ]
  },
  {
   "cell_type": "code",
   "execution_count": 31,
   "id": "386cd0b3",
   "metadata": {},
   "outputs": [
    {
     "name": "stdout",
     "output_type": "stream",
     "text": [
      "Enter the name = Shyam\n",
      "['Shyam', 56, 'Lalitpur']\n",
      "There is 1 record\n"
     ]
    }
   ],
   "source": [
    "c = 0\n",
    "a = [['Ram', 45, 'Kathmandu'],\n",
    "     ['Shyam',56, 'Lalitpur'],\n",
    "     ['Hari',89,'Bhaktapur'],\n",
    "     ['Ram', 35, 'Bharatpur']]\n",
    "n = input(\"Enter the name = \")\n",
    "for i in a:\n",
    "    if i[0].lower() == n.lower():\n",
    "        print(i)\n",
    "        c = c+1\n",
    "print(f\"There is {c} record\")"
   ]
  },
  {
   "cell_type": "code",
   "execution_count": 37,
   "id": "9d342838",
   "metadata": {},
   "outputs": [
    {
     "name": "stdout",
     "output_type": "stream",
     "text": [
      "[['Ram Prasad', 45, 'Kathmandu'], ['Shyam', 56, 'Lalitpur'], ['Hari', 89, 'Bhaktapur'], ['Ram', 35, 'Bharatpur']]\n"
     ]
    }
   ],
   "source": [
    "# update\n",
    "a = [['Ram', 45, 'Kathmandu'],\n",
    "     ['Shyam',56, 'Lalitpur'],\n",
    "     ['Hari',89,'Bhaktapur'],\n",
    "     ['Ram', 35, 'Bharatpur']]\n",
    "a[0][0] = \"Ram Prasad\"\n",
    "print(a)"
   ]
  },
  {
   "cell_type": "code",
   "execution_count": 39,
   "id": "c9cb4612",
   "metadata": {},
   "outputs": [
    {
     "name": "stdout",
     "output_type": "stream",
     "text": [
      "[['Shyam', 56, 'Lalitpur'], ['Hari', 89, 'Bhaktapur'], ['Ram', 35, 'Bharatpur']]\n"
     ]
    }
   ],
   "source": [
    "#Delete\n",
    "a = [['Ram', 45, 'Kathmandu'],\n",
    "     ['Shyam',56, 'Lalitpur'],\n",
    "     ['Hari',89,'Bhaktapur'],\n",
    "     ['Ram', 35, 'Bharatpur']]\n",
    "del a[0]\n",
    "print(a)\n"
   ]
  },
  {
   "cell_type": "code",
   "execution_count": null,
   "id": "237f4456",
   "metadata": {},
   "outputs": [],
   "source": [
    "# WAP to create a matrix having n no.of rows and column"
   ]
  }
 ],
 "metadata": {
  "kernelspec": {
   "display_name": "Python 3 (ipykernel)",
   "language": "python",
   "name": "python3"
  },
  "language_info": {
   "codemirror_mode": {
    "name": "ipython",
    "version": 3
   },
   "file_extension": ".py",
   "mimetype": "text/x-python",
   "name": "python",
   "nbconvert_exporter": "python",
   "pygments_lexer": "ipython3",
   "version": "3.10.9"
  }
 },
 "nbformat": 4,
 "nbformat_minor": 5
}
