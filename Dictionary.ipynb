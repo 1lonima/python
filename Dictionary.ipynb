{
 "cells": [
  {
   "cell_type": "code",
   "execution_count": null,
   "id": "ed19c4a0",
   "metadata": {},
   "outputs": [],
   "source": [
    "#Dict\n",
    "#-Indexing\n",
    "#-Multiple and duplicate data\n",
    "#-ordered\n",
    "#-Mutable"
   ]
  },
  {
   "cell_type": "code",
   "execution_count": null,
   "id": "43a75250",
   "metadata": {},
   "outputs": [],
   "source": [
    "#d = {}\n",
    "#d = dict()\n"
   ]
  },
  {
   "cell_type": "code",
   "execution_count": null,
   "id": "ed323c77",
   "metadata": {},
   "outputs": [],
   "source": [
    "#d = {<key>:<value>,<key>:<value>}"
   ]
  },
  {
   "cell_type": "code",
   "execution_count": 1,
   "id": "f2cca0fe",
   "metadata": {},
   "outputs": [
    {
     "name": "stdout",
     "output_type": "stream",
     "text": [
      "<class 'dict'>\n",
      "{'a': 'Apple', 'b': 'Ball', 'c': 'Cat', 'd': 'Dog'}\n"
     ]
    }
   ],
   "source": [
    "d = {'a': 'Apple', 'b':'Ball','c':'Cat','d':'Dog'}\n",
    "print(type(d))\n",
    "print(d)"
   ]
  },
  {
   "cell_type": "code",
   "execution_count": 3,
   "id": "aa320bcf",
   "metadata": {},
   "outputs": [
    {
     "name": "stdout",
     "output_type": "stream",
     "text": [
      "Apple\n",
      "Dog\n"
     ]
    }
   ],
   "source": [
    "d = {'a': 'Apple', 'b':'Ball','c':'Cat','d':'Dog'}\n",
    "print(d['a'])\n",
    "print(d['d'])"
   ]
  },
  {
   "cell_type": "code",
   "execution_count": null,
   "id": "7ffaeee2",
   "metadata": {},
   "outputs": [],
   "source": []
  },
  {
   "cell_type": "code",
   "execution_count": 4,
   "id": "fd2c4b81",
   "metadata": {},
   "outputs": [
    {
     "data": {
      "text/plain": [
       "4"
      ]
     },
     "execution_count": 4,
     "metadata": {},
     "output_type": "execute_result"
    }
   ],
   "source": [
    " d = {'a': 'Apple', 'b':'Ball','c':'Cat','d':'Dog'}\n",
    "len(d)"
   ]
  },
  {
   "cell_type": "code",
   "execution_count": 6,
   "id": "92faf0db",
   "metadata": {},
   "outputs": [
    {
     "name": "stdout",
     "output_type": "stream",
     "text": [
      "{'a': 'apple', 'b': 'Ball', 'c': 'Cat', 'd': 'Dog'}\n"
     ]
    }
   ],
   "source": [
    " d = {'a': 'Apple', 'b':'Ball','c':'Cat','d':'Dog', 'a':'apple'} #if the same is given or defined, then the program takes up on the second value\n",
    "print(d)"
   ]
  },
  {
   "cell_type": "code",
   "execution_count": 7,
   "id": "3de8527b",
   "metadata": {},
   "outputs": [
    {
     "name": "stdout",
     "output_type": "stream",
     "text": [
      "{'a': 'Apple', 'b': 'Ball', 'c': 'Cat', 'd': 'Dog', 'A': 'Apple'}\n"
     ]
    }
   ],
   "source": [
    " d = {'a': 'Apple', 'b':'Ball','c':'Cat','d':'Dog', 'A':'Apple'} #ordered data type\n",
    "print(d)"
   ]
  },
  {
   "cell_type": "code",
   "execution_count": null,
   "id": "7402b152",
   "metadata": {},
   "outputs": [],
   "source": [
    "# no + and * sign is used inside curly bracket{}"
   ]
  },
  {
   "cell_type": "code",
   "execution_count": 9,
   "id": "26622cb5",
   "metadata": {},
   "outputs": [
    {
     "name": "stdout",
     "output_type": "stream",
     "text": [
      "{'a': 'Apple', 'b': 'Ball', 'c': 'Cat', 'A': 'Apple', 'd': 'Dog'}\n"
     ]
    }
   ],
   "source": [
    " d = {'a': 'Apple', 'b':'Ball','c':'Cat','A':'Apple'}\n",
    "e = {'d':'Dog'}\n",
    "d.update(e) \n",
    "print(d)"
   ]
  },
  {
   "cell_type": "code",
   "execution_count": 10,
   "id": "ad2b9552",
   "metadata": {},
   "outputs": [
    {
     "name": "stdout",
     "output_type": "stream",
     "text": [
      "{'a': 'Apple', 'b': 'Ball', 'c': 'Cat'}\n"
     ]
    }
   ],
   "source": [
    "# Creating Dictionary\n",
    "d = {}\n",
    "d['a'] = 'Apple'\n",
    "d['b'] = 'Ball'\n",
    "d['c'] = 'Cat'\n",
    "print(d)"
   ]
  },
  {
   "cell_type": "code",
   "execution_count": 14,
   "id": "351702d7",
   "metadata": {},
   "outputs": [
    {
     "name": "stdout",
     "output_type": "stream",
     "text": [
      "Enter the the value n =2\n",
      "Enter name =Ram\n",
      "Enter Phone = 9874533644\n",
      "Enter name =Sita\n",
      "Enter Phone = 6657896554\n",
      "{'Ram': '9874533644', 'Sita': '6657896554'}\n"
     ]
    }
   ],
   "source": [
    "info = {}\n",
    "n = int(input(\"Enter the the value n =\"))\n",
    "for i in range(n):\n",
    "    name = input(\"Enter name =\")\n",
    "    phone = input(\"Enter Phone = \")\n",
    "    info[name] = phone\n",
    "print(info)"
   ]
  },
  {
   "cell_type": "code",
   "execution_count": 15,
   "id": "c40611b8",
   "metadata": {},
   "outputs": [
    {
     "name": "stdout",
     "output_type": "stream",
     "text": [
      "Ram\n",
      "Sita\n"
     ]
    }
   ],
   "source": [
    "#using for loop\n",
    "d = {'Ram': '9874533644', 'Sita': '6657896554'}\n",
    "for i in d:\n",
    "    print(i)"
   ]
  },
  {
   "cell_type": "code",
   "execution_count": 16,
   "id": "75809ff7",
   "metadata": {},
   "outputs": [
    {
     "name": "stdout",
     "output_type": "stream",
     "text": [
      "9874533644\n",
      "6657896554\n"
     ]
    }
   ],
   "source": [
    "d = {'Ram': '9874533644', 'Sita': '6657896554'}\n",
    "for i in d.values():\n",
    "    print(i)"
   ]
  },
  {
   "cell_type": "code",
   "execution_count": 17,
   "id": "5083091b",
   "metadata": {},
   "outputs": [
    {
     "name": "stdout",
     "output_type": "stream",
     "text": [
      "('Ram', '9874533644')\n",
      "('Sita', '6657896554')\n"
     ]
    }
   ],
   "source": [
    "d = {'Ram': '9874533644', 'Sita': '6657896554'}\n",
    "for i in d.items():  #tuple is represented by small bracket\n",
    "    print(i)"
   ]
  },
  {
   "cell_type": "code",
   "execution_count": 18,
   "id": "f9ea061a",
   "metadata": {},
   "outputs": [
    {
     "data": {
      "text/plain": [
       "{'Ram': 9801795778, 'Shyam': 987463214856}"
      ]
     },
     "execution_count": 18,
     "metadata": {},
     "output_type": "execute_result"
    }
   ],
   "source": [
    "# Converting List into dictionary\n",
    "d = [['Ram', 9801795778], \n",
    "    ['Shyam', 987463214856]]\n",
    "dict(d)"
   ]
  },
  {
   "cell_type": "code",
   "execution_count": 19,
   "id": "fa392edc",
   "metadata": {},
   "outputs": [
    {
     "name": "stdout",
     "output_type": "stream",
     "text": [
      "{'Ram': 98017957897, 'Shyam': 987463214856}\n"
     ]
    }
   ],
   "source": [
    "# update in dictionary\n",
    "d = {'Ram': 9801795778, 'Shyam': 987463214856}\n",
    "d['Ram'] = 98017957897\n",
    "print(d)"
   ]
  },
  {
   "cell_type": "code",
   "execution_count": 20,
   "id": "736c9830",
   "metadata": {},
   "outputs": [
    {
     "name": "stdout",
     "output_type": "stream",
     "text": [
      "{'Shyam': 987463214856}\n"
     ]
    }
   ],
   "source": [
    "# Delete\n",
    "d = {'Ram': 98017957897, 'Shyam': 987463214856}\n",
    "del d['Ram']\n",
    "print(d)"
   ]
  },
  {
   "cell_type": "code",
   "execution_count": 21,
   "id": "a883f6fd",
   "metadata": {},
   "outputs": [
    {
     "name": "stdout",
     "output_type": "stream",
     "text": [
      "{'Shyam': 987463214856}\n",
      "98017957897\n"
     ]
    }
   ],
   "source": [
    "#Pop delete\n",
    "d = {'Ram': 98017957897, 'Shyam': 987463214856}\n",
    "e = d.pop('Ram')\n",
    "print(d)\n",
    "print(e)"
   ]
  },
  {
   "cell_type": "code",
   "execution_count": 22,
   "id": "3f4df298",
   "metadata": {},
   "outputs": [
    {
     "name": "stdout",
     "output_type": "stream",
     "text": [
      "{'Ram': [987547899, 78992478], 'Shyam': [987452159632, 78945699]}\n"
     ]
    }
   ],
   "source": [
    "# list inside Dictionary\n",
    "d = {'Ram':[987547899,78992478], 'Shyam': [987452159632,78945699]}\n",
    "print(d)"
   ]
  },
  {
   "cell_type": "code",
   "execution_count": 26,
   "id": "3bc13f88",
   "metadata": {},
   "outputs": [
    {
     "name": "stdout",
     "output_type": "stream",
     "text": [
      "Enter the the value n =2\n",
      "Enter name =Ram\n",
      "Enter ntc Phone = 789521566\n",
      "Enter ncell Phone = 589874566\n",
      "Enter name =Shyam\n",
      "Enter ntc Phone = 9854756563\n",
      "Enter ncell Phone = 98754622\n",
      "{'Ram': ['789521566', '589874566'], 'Shyam': ['9854756563', '98754622']}\n"
     ]
    }
   ],
   "source": [
    "info = {}\n",
    "n = int(input(\"Enter the the value n =\"))\n",
    "for i in range(n):\n",
    "    name = input(\"Enter name =\")\n",
    "    ntc_phone = input(\"Enter ntc Phone = \")\n",
    "    ncell_phone = input(\"Enter ncell Phone = \")\n",
    "    info[name] = [ntc_phone, ncell_phone]\n",
    "print(info)"
   ]
  },
  {
   "cell_type": "code",
   "execution_count": 27,
   "id": "26b4a64d",
   "metadata": {},
   "outputs": [
    {
     "data": {
      "text/plain": [
       "'9854756563'"
      ]
     },
     "execution_count": 27,
     "metadata": {},
     "output_type": "execute_result"
    }
   ],
   "source": [
    "#d ={'Ram': [987547899, 78992478], 'Shyam': [987452159632, 78945699]}\n",
    "info['Shyam'][0]"
   ]
  },
  {
   "cell_type": "code",
   "execution_count": 32,
   "id": "76db3d9f",
   "metadata": {},
   "outputs": [
    {
     "ename": "TypeError",
     "evalue": "'dict' object cannot be interpreted as an integer",
     "output_type": "error",
     "traceback": [
      "\u001b[1;31m---------------------------------------------------------------------------\u001b[0m",
      "\u001b[1;31mTypeError\u001b[0m                                 Traceback (most recent call last)",
      "Cell \u001b[1;32mIn[32], line 5\u001b[0m\n\u001b[0;32m      1\u001b[0m info \u001b[38;5;241m=\u001b[39m {}\n\u001b[0;32m      2\u001b[0m d \u001b[38;5;241m=\u001b[39m{\u001b[38;5;124m'\u001b[39m\u001b[38;5;124mname\u001b[39m\u001b[38;5;124m'\u001b[39m:[\u001b[38;5;124m'\u001b[39m\u001b[38;5;124mRam\u001b[39m\u001b[38;5;124m'\u001b[39m,\u001b[38;5;124m'\u001b[39m\u001b[38;5;124mShyam\u001b[39m\u001b[38;5;124m'\u001b[39m,\u001b[38;5;124m'\u001b[39m\u001b[38;5;124mHari\u001b[39m\u001b[38;5;124m'\u001b[39m],\n\u001b[0;32m      3\u001b[0m    \u001b[38;5;124m'\u001b[39m\u001b[38;5;124mage\u001b[39m\u001b[38;5;124m'\u001b[39m:[\u001b[38;5;241m45\u001b[39m,\u001b[38;5;241m56\u001b[39m,\u001b[38;5;241m45\u001b[39m],\n\u001b[0;32m      4\u001b[0m    \u001b[38;5;124m'\u001b[39m\u001b[38;5;124madd\u001b[39m\u001b[38;5;124m'\u001b[39m:[\u001b[38;5;124m'\u001b[39m\u001b[38;5;124mKathmandu\u001b[39m\u001b[38;5;124m'\u001b[39m,\u001b[38;5;124m'\u001b[39m\u001b[38;5;124mBhaktapur\u001b[39m\u001b[38;5;124m'\u001b[39m,\u001b[38;5;124m'\u001b[39m\u001b[38;5;124mLalitpur\u001b[39m\u001b[38;5;124m'\u001b[39m]}\n\u001b[1;32m----> 5\u001b[0m \u001b[38;5;28;01mfor\u001b[39;00m i \u001b[38;5;129;01min\u001b[39;00m \u001b[38;5;28;43mrange\u001b[39;49m\u001b[43m(\u001b[49m\u001b[43md\u001b[49m\u001b[43m)\u001b[49m:\n\u001b[0;32m      6\u001b[0m     info[name] \u001b[38;5;241m=\u001b[39m [age,add]\n\u001b[0;32m      7\u001b[0m     \u001b[38;5;28mprint\u001b[39m(info)\n",
      "\u001b[1;31mTypeError\u001b[0m: 'dict' object cannot be interpreted as an integer"
     ]
    }
   ],
   "source": [
    "info = {}\n",
    "d ={'name':['Ram','Shyam','Hari'],\n",
    "   'age':[45,56,45],\n",
    "   'add':['Kathmandu','Bhaktapur','Lalitpur']}\n",
    "#for i in range(d):\n",
    "   # info[name] = [age,add]\n",
    "   # print(info)\n",
    "    "
   ]
  },
  {
   "cell_type": "code",
   "execution_count": 38,
   "id": "207ed1f5",
   "metadata": {},
   "outputs": [
    {
     "name": "stdout",
     "output_type": "stream",
     "text": [
      "Enter n =2\n",
      "Enter name =Ram\n",
      "Enter age =35\n",
      "Enter add =Baluwatar\n",
      "Enter name =Sita\n",
      "Enter age =45\n",
      "Enter add =Bharatpur\n",
      "{'name': ['Ram', 'Sita'], 'age': [35, 45], 'add': ['Baluwatar', 'Bharatpur']}\n"
     ]
    }
   ],
   "source": [
    "d = { 'name':[],'age':[],'add':[]}\n",
    "n = int(input(\"Enter n =\"))\n",
    "for i in range(n):\n",
    "    name = input(\"Enter name =\")\n",
    "    age = int(input(\"Enter age =\"))\n",
    "    add = input(\"Enter add =\")\n",
    "    d['name'].append(name)\n",
    "    d['age'].append(age)\n",
    "    d['add'].append(add)\n",
    "print(d)"
   ]
  },
  {
   "cell_type": "code",
   "execution_count": 41,
   "id": "14af3194",
   "metadata": {},
   "outputs": [
    {
     "name": "stdout",
     "output_type": "stream",
     "text": [
      "0\n"
     ]
    }
   ],
   "source": [
    "c = 0\n",
    "for i in d['name']:\n",
    "    if i ==\"Ram\":\n",
    "        print(c)\n",
    "    c = c+1"
   ]
  },
  {
   "cell_type": "code",
   "execution_count": 42,
   "id": "67195b4a",
   "metadata": {},
   "outputs": [
    {
     "name": "stdout",
     "output_type": "stream",
     "text": [
      "Ram\n",
      "35\n",
      "Baluwatar\n"
     ]
    }
   ],
   "source": [
    "print(d['name'][0])\n",
    "print(d['age'][0])\n",
    "print(d['add'][0])"
   ]
  },
  {
   "cell_type": "code",
   "execution_count": 43,
   "id": "293a5448",
   "metadata": {},
   "outputs": [
    {
     "name": "stdout",
     "output_type": "stream",
     "text": [
      "Ram\n",
      "35\n",
      "Baluwatar\n"
     ]
    }
   ],
   "source": [
    "c = 0\n",
    "for i in d['name']:\n",
    "    if i ==\"Ram\":\n",
    "        print(d['name'][0])\n",
    "        print(d['age'][0])\n",
    "        print(d['add'][0])\n",
    "    c = c+1"
   ]
  },
  {
   "cell_type": "code",
   "execution_count": null,
   "id": "bdf68140",
   "metadata": {},
   "outputs": [],
   "source": []
  }
 ],
 "metadata": {
  "kernelspec": {
   "display_name": "Python 3 (ipykernel)",
   "language": "python",
   "name": "python3"
  },
  "language_info": {
   "codemirror_mode": {
    "name": "ipython",
    "version": 3
   },
   "file_extension": ".py",
   "mimetype": "text/x-python",
   "name": "python",
   "nbconvert_exporter": "python",
   "pygments_lexer": "ipython3",
   "version": "3.10.9"
  }
 },
 "nbformat": 4,
 "nbformat_minor": 5
}
