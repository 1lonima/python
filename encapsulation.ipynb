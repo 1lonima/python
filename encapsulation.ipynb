{
 "cells": [
  {
   "cell_type": "code",
   "execution_count": null,
   "id": "862f6a7a",
   "metadata": {},
   "outputs": [],
   "source": [
    "#Encapsulation- private,protected and public"
   ]
  },
  {
   "cell_type": "code",
   "execution_count": null,
   "id": "0d97d492",
   "metadata": {},
   "outputs": [],
   "source": [
    "#private\n",
    "class"
   ]
  }
 ],
 "metadata": {
  "kernelspec": {
   "display_name": "Python 3 (ipykernel)",
   "language": "python",
   "name": "python3"
  },
  "language_info": {
   "codemirror_mode": {
    "name": "ipython",
    "version": 3
   },
   "file_extension": ".py",
   "mimetype": "text/x-python",
   "name": "python",
   "nbconvert_exporter": "python",
   "pygments_lexer": "ipython3",
   "version": "3.10.9"
  }
 },
 "nbformat": 4,
 "nbformat_minor": 5
}
