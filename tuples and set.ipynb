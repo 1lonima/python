{
 "cells": [
  {
   "cell_type": "code",
   "execution_count": 1,
   "id": "1a9509c5",
   "metadata": {},
   "outputs": [],
   "source": [
    "#Tuple\n",
    "#- Indexing\n",
    "#-Ordered\n",
    "#-Multiple and duplicate\n",
    "# Imutable"
   ]
  },
  {
   "cell_type": "code",
   "execution_count": 2,
   "id": "ea321655",
   "metadata": {},
   "outputs": [
    {
     "name": "stdout",
     "output_type": "stream",
     "text": [
      "<class 'tuple'>\n",
      "<class 'tuple'>\n"
     ]
    }
   ],
   "source": [
    "a = (1,2,3)\n",
    "b =  ('apple','ball','cat')\n",
    "print(type(a))\n",
    "print(type(b))"
   ]
  },
  {
   "cell_type": "code",
   "execution_count": 3,
   "id": "24148828",
   "metadata": {},
   "outputs": [
    {
     "name": "stdout",
     "output_type": "stream",
     "text": [
      "<class 'tuple'>\n"
     ]
    }
   ],
   "source": [
    "a =(1,)\n",
    "print(type(a))"
   ]
  },
  {
   "cell_type": "code",
   "execution_count": 4,
   "id": "d51856c9",
   "metadata": {},
   "outputs": [],
   "source": [
    "# Defining Empty tuple\n",
    "a = tuple()"
   ]
  },
  {
   "cell_type": "code",
   "execution_count": 7,
   "id": "67f78c78",
   "metadata": {},
   "outputs": [
    {
     "name": "stdout",
     "output_type": "stream",
     "text": [
      "apple\n",
      "('apple', 'ball', 'cat', 'dog', 1)\n",
      "('apple', 'cat', 1, 3)\n"
     ]
    }
   ],
   "source": [
    "b = ('apple','ball','cat','dog',1,2,3,4,5)\n",
    "print(b[0])\n",
    "print(b[0:5])\n",
    "print(b[0:8:2])"
   ]
  },
  {
   "cell_type": "code",
   "execution_count": 8,
   "id": "4882cf57",
   "metadata": {},
   "outputs": [],
   "source": [
    "# min max and sum function used under tuple function"
   ]
  },
  {
   "cell_type": "code",
   "execution_count": 13,
   "id": "dc75283b",
   "metadata": {},
   "outputs": [
    {
     "name": "stdout",
     "output_type": "stream",
     "text": [
      "500\n",
      "2\n",
      "1392\n"
     ]
    }
   ],
   "source": [
    "a = (485, 2,75,100,500,230)\n",
    "print(max(a))\n",
    "print(min(a))\n",
    "print(sum(a))"
   ]
  },
  {
   "cell_type": "code",
   "execution_count": 14,
   "id": "b68663c3",
   "metadata": {},
   "outputs": [
    {
     "name": "stdout",
     "output_type": "stream",
     "text": [
      "('apple', 'ball', 'cat', 'dog', 1, 2, 3, 4, 5, 5)\n"
     ]
    }
   ],
   "source": [
    "b = ('apple','ball','cat','dog',1,2,3,4,5,5) #duplicate data can be hold\n",
    "print(b)"
   ]
  },
  {
   "cell_type": "code",
   "execution_count": 15,
   "id": "a9bd0531",
   "metadata": {},
   "outputs": [],
   "source": [
    "#imutable (it doesn't change- to work in static data type tuple is used)\n",
    "#no create- append, insert\n",
    "# no delete, remove, pop\n",
    "# no update,sort"
   ]
  },
  {
   "cell_type": "code",
   "execution_count": 16,
   "id": "f8da5c18",
   "metadata": {},
   "outputs": [
    {
     "name": "stdout",
     "output_type": "stream",
     "text": [
      "(1, 2, 3, 4, 5, 6, 7, 8, 9)\n"
     ]
    }
   ],
   "source": [
    "a = (1,2,3,4,5)\n",
    "b = (6,7,8,9)\n",
    "c = a+b\n",
    "print(c)"
   ]
  },
  {
   "cell_type": "code",
   "execution_count": 17,
   "id": "6c50cf20",
   "metadata": {},
   "outputs": [
    {
     "name": "stdout",
     "output_type": "stream",
     "text": [
      "(1,)\n"
     ]
    }
   ],
   "source": [
    "a = ()\n",
    "b = (1,)\n",
    "a = a+b\n",
    "print(a)"
   ]
  },
  {
   "cell_type": "code",
   "execution_count": 18,
   "id": "dbf049ef",
   "metadata": {},
   "outputs": [
    {
     "name": "stdout",
     "output_type": "stream",
     "text": [
      "Enter value of n =2\n",
      "Enter X =ygjhggbjhg\n",
      "Enter X =hjhbb\n",
      "('ygjhggbjhg', 'hjhbb')\n"
     ]
    }
   ],
   "source": [
    "t = ()\n",
    "n = int(input(\"Enter value of n =\"))\n",
    "for i in range(n):\n",
    "    x = input(\"Enter X =\")\n",
    "    t = t +(x,)\n",
    "print (t)"
   ]
  },
  {
   "cell_type": "code",
   "execution_count": 20,
   "id": "3764a512",
   "metadata": {},
   "outputs": [
    {
     "name": "stdout",
     "output_type": "stream",
     "text": [
      "[788, 78945, 4587, 58746, 789322]\n",
      "<class 'list'>\n"
     ]
    }
   ],
   "source": [
    "a = (788,78945, 4587, 58746, 789322)\n",
    "b = list(a)\n",
    "print(b)\n",
    "print(type(b))"
   ]
  },
  {
   "cell_type": "code",
   "execution_count": 22,
   "id": "73147321",
   "metadata": {},
   "outputs": [
    {
     "name": "stdout",
     "output_type": "stream",
     "text": [
      "[78945, 4587, 58746, 789322]\n"
     ]
    }
   ],
   "source": [
    "a = (788,78945, 4587, 58746, 789322)\n",
    "b = list(a)\n",
    "del (b[0])\n",
    "print(b)\n"
   ]
  },
  {
   "cell_type": "code",
   "execution_count": 24,
   "id": "fb8874ff",
   "metadata": {},
   "outputs": [
    {
     "name": "stdout",
     "output_type": "stream",
     "text": [
      "(78945, 4587, 58746, 789322)\n",
      "<class 'tuple'>\n"
     ]
    }
   ],
   "source": [
    "a = (788,78945, 4587, 58746, 789322)\n",
    "b = list(a)\n",
    "del (b[0])\n",
    "a= tuple(b)\n",
    "print(a)\n",
    "print(type(a))"
   ]
  },
  {
   "cell_type": "code",
   "execution_count": 25,
   "id": "bc897b7b",
   "metadata": {},
   "outputs": [
    {
     "name": "stdout",
     "output_type": "stream",
     "text": [
      "((1, 2, 3), (4, 5, 6), (7, 8, 9))\n"
     ]
    }
   ],
   "source": [
    "# tuple inside tuple\n",
    "a = ((1,2,3),\n",
    "    (4,5,6),\n",
    "    (7,8,9))\n",
    "print(a)"
   ]
  },
  {
   "cell_type": "code",
   "execution_count": 29,
   "id": "c42812bf",
   "metadata": {},
   "outputs": [
    {
     "ename": "KeyboardInterrupt",
     "evalue": "Interrupted by user",
     "output_type": "error",
     "traceback": [
      "\u001b[1;31m---------------------------------------------------------------------------\u001b[0m",
      "\u001b[1;31mKeyboardInterrupt\u001b[0m                         Traceback (most recent call last)",
      "Cell \u001b[1;32mIn[29], line 2\u001b[0m\n\u001b[0;32m      1\u001b[0m info \u001b[38;5;241m=\u001b[39m ()\n\u001b[1;32m----> 2\u001b[0m n \u001b[38;5;241m=\u001b[39m \u001b[38;5;28mint\u001b[39m(\u001b[38;5;28;43minput\u001b[39;49m\u001b[43m(\u001b[49m\u001b[38;5;124;43m\"\u001b[39;49m\u001b[38;5;124;43mEnter the value of N =\u001b[39;49m\u001b[38;5;124;43m\"\u001b[39;49m\u001b[43m)\u001b[49m)\n\u001b[0;32m      3\u001b[0m \u001b[38;5;28;01mfor\u001b[39;00m i \u001b[38;5;129;01min\u001b[39;00m \u001b[38;5;28mrange\u001b[39m(n):\n\u001b[0;32m      4\u001b[0m     name \u001b[38;5;241m=\u001b[39m \u001b[38;5;28minput\u001b[39m(\u001b[38;5;124m\"\u001b[39m\u001b[38;5;124mEnter name = \u001b[39m\u001b[38;5;124m\"\u001b[39m)\n",
      "File \u001b[1;32m~\\anaconda3\\lib\\site-packages\\ipykernel\\kernelbase.py:1175\u001b[0m, in \u001b[0;36mKernel.raw_input\u001b[1;34m(self, prompt)\u001b[0m\n\u001b[0;32m   1171\u001b[0m \u001b[38;5;28;01mif\u001b[39;00m \u001b[38;5;129;01mnot\u001b[39;00m \u001b[38;5;28mself\u001b[39m\u001b[38;5;241m.\u001b[39m_allow_stdin:\n\u001b[0;32m   1172\u001b[0m     \u001b[38;5;28;01mraise\u001b[39;00m StdinNotImplementedError(\n\u001b[0;32m   1173\u001b[0m         \u001b[38;5;124m\"\u001b[39m\u001b[38;5;124mraw_input was called, but this frontend does not support input requests.\u001b[39m\u001b[38;5;124m\"\u001b[39m\n\u001b[0;32m   1174\u001b[0m     )\n\u001b[1;32m-> 1175\u001b[0m \u001b[38;5;28;01mreturn\u001b[39;00m \u001b[38;5;28;43mself\u001b[39;49m\u001b[38;5;241;43m.\u001b[39;49m\u001b[43m_input_request\u001b[49m\u001b[43m(\u001b[49m\n\u001b[0;32m   1176\u001b[0m \u001b[43m    \u001b[49m\u001b[38;5;28;43mstr\u001b[39;49m\u001b[43m(\u001b[49m\u001b[43mprompt\u001b[49m\u001b[43m)\u001b[49m\u001b[43m,\u001b[49m\n\u001b[0;32m   1177\u001b[0m \u001b[43m    \u001b[49m\u001b[38;5;28;43mself\u001b[39;49m\u001b[38;5;241;43m.\u001b[39;49m\u001b[43m_parent_ident\u001b[49m\u001b[43m[\u001b[49m\u001b[38;5;124;43m\"\u001b[39;49m\u001b[38;5;124;43mshell\u001b[39;49m\u001b[38;5;124;43m\"\u001b[39;49m\u001b[43m]\u001b[49m\u001b[43m,\u001b[49m\n\u001b[0;32m   1178\u001b[0m \u001b[43m    \u001b[49m\u001b[38;5;28;43mself\u001b[39;49m\u001b[38;5;241;43m.\u001b[39;49m\u001b[43mget_parent\u001b[49m\u001b[43m(\u001b[49m\u001b[38;5;124;43m\"\u001b[39;49m\u001b[38;5;124;43mshell\u001b[39;49m\u001b[38;5;124;43m\"\u001b[39;49m\u001b[43m)\u001b[49m\u001b[43m,\u001b[49m\n\u001b[0;32m   1179\u001b[0m \u001b[43m    \u001b[49m\u001b[43mpassword\u001b[49m\u001b[38;5;241;43m=\u001b[39;49m\u001b[38;5;28;43;01mFalse\u001b[39;49;00m\u001b[43m,\u001b[49m\n\u001b[0;32m   1180\u001b[0m \u001b[43m\u001b[49m\u001b[43m)\u001b[49m\n",
      "File \u001b[1;32m~\\anaconda3\\lib\\site-packages\\ipykernel\\kernelbase.py:1217\u001b[0m, in \u001b[0;36mKernel._input_request\u001b[1;34m(self, prompt, ident, parent, password)\u001b[0m\n\u001b[0;32m   1214\u001b[0m             \u001b[38;5;28;01mbreak\u001b[39;00m\n\u001b[0;32m   1215\u001b[0m \u001b[38;5;28;01mexcept\u001b[39;00m \u001b[38;5;167;01mKeyboardInterrupt\u001b[39;00m:\n\u001b[0;32m   1216\u001b[0m     \u001b[38;5;66;03m# re-raise KeyboardInterrupt, to truncate traceback\u001b[39;00m\n\u001b[1;32m-> 1217\u001b[0m     \u001b[38;5;28;01mraise\u001b[39;00m \u001b[38;5;167;01mKeyboardInterrupt\u001b[39;00m(\u001b[38;5;124m\"\u001b[39m\u001b[38;5;124mInterrupted by user\u001b[39m\u001b[38;5;124m\"\u001b[39m) \u001b[38;5;28;01mfrom\u001b[39;00m \u001b[38;5;28mNone\u001b[39m\n\u001b[0;32m   1218\u001b[0m \u001b[38;5;28;01mexcept\u001b[39;00m \u001b[38;5;167;01mException\u001b[39;00m:\n\u001b[0;32m   1219\u001b[0m     \u001b[38;5;28mself\u001b[39m\u001b[38;5;241m.\u001b[39mlog\u001b[38;5;241m.\u001b[39mwarning(\u001b[38;5;124m\"\u001b[39m\u001b[38;5;124mInvalid Message:\u001b[39m\u001b[38;5;124m\"\u001b[39m, exc_info\u001b[38;5;241m=\u001b[39m\u001b[38;5;28;01mTrue\u001b[39;00m)\n",
      "\u001b[1;31mKeyboardInterrupt\u001b[0m: Interrupted by user"
     ]
    }
   ],
   "source": [
    "info = ()\n",
    "n = int(input(\"Enter the value of N =\"))\n",
    "for i in range(n):\n",
    "    name = input(\"Enter name = \")\n",
    "    age = int(input(\"Enter age = \"))\n",
    "    add = input(\"Enter address = \")\n",
    "    info = info + ((name,age,add),)\n",
    "print(info)\n",
    "print(type(info))"
   ]
  },
  {
   "cell_type": "code",
   "execution_count": 31,
   "id": "9461026b",
   "metadata": {},
   "outputs": [
    {
     "name": "stdout",
     "output_type": "stream",
     "text": [
      "(('lonima', 37, 'Baluwatar'), ('Rishav', 35, 'Chakrapath'))\n",
      "(('lonima', 37, 'Baluwatar'), ('Rishav', 35, 'Chakrapath'))\n"
     ]
    }
   ],
   "source": [
    "a = (('lonima', 37, 'Baluwatar'), ('Rishav', 35, 'Chakrapath'))\n",
    "for i in a:\n",
    "    print(a)"
   ]
  },
  {
   "cell_type": "code",
   "execution_count": 32,
   "id": "64d3e124",
   "metadata": {},
   "outputs": [
    {
     "name": "stdout",
     "output_type": "stream",
     "text": [
      "[['lonima', 37, 'Baluwatar']]\n",
      "[['lonima', 37, 'Baluwatar'], ['Rishav', 35, 'Chakrapath']]\n"
     ]
    }
   ],
   "source": [
    "l = []\n",
    "a = (('lonima', 37, 'Baluwatar'), ('Rishav', 35, 'Chakrapath'))\n",
    "for i in a:\n",
    "    l.append(list(i))\n",
    "    print(l)"
   ]
  },
  {
   "cell_type": "code",
   "execution_count": 33,
   "id": "cc771141",
   "metadata": {},
   "outputs": [
    {
     "name": "stdout",
     "output_type": "stream",
     "text": [
      "((1, 2, 3), (4, 5, 6), (7, 8, 9))\n"
     ]
    }
   ],
   "source": [
    "# Original list\n",
    "nested_list = [[1, 2, 3], [4, 5, 6], [7, 8, 9]]\n",
    "\n",
    "# Converting to tuple inside tuple\n",
    "nested_tuple = tuple(tuple(sublist) for sublist in nested_list)\n",
    "\n",
    "# Printing the result\n",
    "print(nested_tuple)\n"
   ]
  },
  {
   "cell_type": "code",
   "execution_count": 34,
   "id": "cdeac041",
   "metadata": {},
   "outputs": [],
   "source": [
    "#Set\n",
    "#-No Indexing\n",
    "# -Multiple but no duplicate data\n",
    "# Unordered\n",
    "# -Mutable"
   ]
  },
  {
   "cell_type": "code",
   "execution_count": 35,
   "id": "793c2b30",
   "metadata": {},
   "outputs": [
    {
     "name": "stdout",
     "output_type": "stream",
     "text": [
      "<class 'set'>\n"
     ]
    }
   ],
   "source": [
    "s ={1,2,3}\n",
    "print(type(s))"
   ]
  },
  {
   "cell_type": "code",
   "execution_count": 37,
   "id": "6796807f",
   "metadata": {},
   "outputs": [
    {
     "name": "stdout",
     "output_type": "stream",
     "text": [
      "{'Dog', 'Fish', 'Cat', 'Ball', 'Apple'}\n"
     ]
    }
   ],
   "source": [
    "s ={'Ball','Cat','Dog','Fish','Apple'}\n",
    "print(s)"
   ]
  },
  {
   "cell_type": "code",
   "execution_count": 38,
   "id": "1e612e74",
   "metadata": {},
   "outputs": [
    {
     "name": "stdout",
     "output_type": "stream",
     "text": [
      "{1, 2, 3, 4, 5, 6, 7, 8, 9}\n"
     ]
    }
   ],
   "source": [
    "s = {5,3,4,8,9,6,2,7,1}\n",
    "print(s)"
   ]
  },
  {
   "cell_type": "code",
   "execution_count": 39,
   "id": "8f4d2dad",
   "metadata": {},
   "outputs": [
    {
     "name": "stdout",
     "output_type": "stream",
     "text": [
      "{'Dog', 'Fish', 'Cat', 'Ball', 'Apple'}\n"
     ]
    }
   ],
   "source": [
    "#set dosen't support duplicate\n",
    "s ={'Ball','Cat','Dog','Fish','Apple','Ball','Cat'}\n",
    "print(s)"
   ]
  },
  {
   "cell_type": "code",
   "execution_count": 40,
   "id": "67ea3fab",
   "metadata": {},
   "outputs": [
    {
     "name": "stdout",
     "output_type": "stream",
     "text": [
      "Dog\n",
      "Fish\n",
      "Cat\n",
      "Ball\n",
      "Apple\n"
     ]
    }
   ],
   "source": [
    "# add(), remove(),update(),discard()\n",
    "s ={'Ball','Cat','Dog','Fish','Apple','Ball','Cat'}\n",
    "for i in s:\n",
    "    print(i)"
   ]
  },
  {
   "cell_type": "code",
   "execution_count": 42,
   "id": "bf538803",
   "metadata": {},
   "outputs": [
    {
     "name": "stdout",
     "output_type": "stream",
     "text": [
      "{1, 2, 3, 4}\n"
     ]
    }
   ],
   "source": [
    "#add\n",
    "s= {1,2,3}\n",
    "s.add(4)\n",
    "print(s)"
   ]
  },
  {
   "cell_type": "code",
   "execution_count": 43,
   "id": "7f10cbb9",
   "metadata": {},
   "outputs": [
    {
     "name": "stdout",
     "output_type": "stream",
     "text": [
      "{1, 2, 3, 4, 5, 6, 7}\n"
     ]
    }
   ],
   "source": [
    "#Update\n",
    "s = {1,2,3,4}\n",
    "a = {5,6,7}\n",
    "s.update(a)\n",
    "print(s)"
   ]
  },
  {
   "cell_type": "code",
   "execution_count": 44,
   "id": "0e6509ff",
   "metadata": {},
   "outputs": [
    {
     "name": "stdout",
     "output_type": "stream",
     "text": [
      "{1, 3, 4, 5, 6, 7}\n"
     ]
    }
   ],
   "source": [
    "#remove\n",
    "s = {1, 2, 3, 4, 5, 6, 7}\n",
    "s.remove(2)\n",
    "print(s)"
   ]
  },
  {
   "cell_type": "code",
   "execution_count": 49,
   "id": "082ef33a",
   "metadata": {},
   "outputs": [
    {
     "name": "stdout",
     "output_type": "stream",
     "text": [
      "{'Ram', 'Mike'}\n",
      "{'Ram', 'Sabin', 'Bill', 'John', 'Nabin', 'Satya', 'Steve', 'Mike', 'Gates', 'Akash', 'Jobs', 'William'}\n",
      "{'Sabin', 'John', 'Steve', 'Akash', 'Jobs'}\n",
      "{'Bill', 'Nabin', 'Satya', 'Gates', 'William'}\n",
      "{'Lonima', 'Rishav'}\n"
     ]
    }
   ],
   "source": [
    "u = {'Lonima','Rishav','Ram', 'Sabin', 'Bill', 'John', 'Nabin', 'Satya', 'Steve', 'Mike', 'Gates', 'Akash', 'Jobs', 'William'}\n",
    "apple= {'Ram','Jobs','Steve','John','Sabin','Akash', 'Mike'}\n",
    "ms = {'Satya','Bill', 'Gates', 'William','Mike','Nabin','Ram'}\n",
    "i = apple.intersection(ms)\n",
    "print(i)\n",
    "un=apple.union(ms)\n",
    "print(un)\n",
    "print(apple-ms) #only unique variable of apple will be printed\n",
    "print(ms-apple)\n",
    "print(u-un) #only difference of Universal set minus the union set will be printed"
   ]
  },
  {
   "cell_type": "code",
   "execution_count": 50,
   "id": "ef666b3a",
   "metadata": {},
   "outputs": [
    {
     "ename": "TypeError",
     "evalue": "unhashable type: 'list'",
     "output_type": "error",
     "traceback": [
      "\u001b[1;31m---------------------------------------------------------------------------\u001b[0m",
      "\u001b[1;31mTypeError\u001b[0m                                 Traceback (most recent call last)",
      "Cell \u001b[1;32mIn[50], line 3\u001b[0m\n\u001b[0;32m      1\u001b[0m \u001b[38;5;66;03m# only imutable inside set\u001b[39;00m\n\u001b[0;32m      2\u001b[0m \u001b[38;5;66;03m#set cannot have list inside it\u001b[39;00m\n\u001b[1;32m----> 3\u001b[0m s \u001b[38;5;241m=\u001b[39m { [\u001b[38;5;241m1\u001b[39m,\u001b[38;5;241m2\u001b[39m,\u001b[38;5;241m3\u001b[39m],[\u001b[38;5;241m4\u001b[39m,\u001b[38;5;241m5\u001b[39m,\u001b[38;5;241m6\u001b[39m]}\n\u001b[0;32m      4\u001b[0m \u001b[38;5;28mprint\u001b[39m(s)\n",
      "\u001b[1;31mTypeError\u001b[0m: unhashable type: 'list'"
     ]
    }
   ],
   "source": [
    "# only imutable inside set\n",
    "#set cannot have list inside it\n",
    "s = { [1,2,3],[4,5,6]}\n",
    "print(s)"
   ]
  },
  {
   "cell_type": "code",
   "execution_count": 51,
   "id": "b7ea037b",
   "metadata": {},
   "outputs": [
    {
     "ename": "TypeError",
     "evalue": "unhashable type: 'set'",
     "output_type": "error",
     "traceback": [
      "\u001b[1;31m---------------------------------------------------------------------------\u001b[0m",
      "\u001b[1;31mTypeError\u001b[0m                                 Traceback (most recent call last)",
      "Cell \u001b[1;32mIn[51], line 4\u001b[0m\n\u001b[0;32m      1\u001b[0m \u001b[38;5;66;03m#no dictionary inside set\u001b[39;00m\n\u001b[0;32m      2\u001b[0m \u001b[38;5;66;03m#s = {{1:2, 5:10}}\u001b[39;00m\n\u001b[0;32m      3\u001b[0m \u001b[38;5;66;03m#no set inside set\u001b[39;00m\n\u001b[1;32m----> 4\u001b[0m s \u001b[38;5;241m=\u001b[39m {{\u001b[38;5;241m1\u001b[39m,\u001b[38;5;241m2\u001b[39m,\u001b[38;5;241m3\u001b[39m}}\n\u001b[0;32m      5\u001b[0m \u001b[38;5;28mprint\u001b[39m(s)\n",
      "\u001b[1;31mTypeError\u001b[0m: unhashable type: 'set'"
     ]
    }
   ],
   "source": [
    "#no dictionary inside set\n",
    "#s = {{1:2, 5:10}}\n",
    "#no set inside set\n",
    "s = {{1,2,3}}\n",
    "print(s)"
   ]
  },
  {
   "cell_type": "code",
   "execution_count": null,
   "id": "5e4a1387",
   "metadata": {},
   "outputs": [],
   "source": [
    "#write a program to create,read,update and delete dictionary inside dictionary"
   ]
  }
 ],
 "metadata": {
  "kernelspec": {
   "display_name": "Python 3 (ipykernel)",
   "language": "python",
   "name": "python3"
  },
  "language_info": {
   "codemirror_mode": {
    "name": "ipython",
    "version": 3
   },
   "file_extension": ".py",
   "mimetype": "text/x-python",
   "name": "python",
   "nbconvert_exporter": "python",
   "pygments_lexer": "ipython3",
   "version": "3.10.9"
  }
 },
 "nbformat": 4,
 "nbformat_minor": 5
}
