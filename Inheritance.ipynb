{
 "cells": [
  {
   "cell_type": "code",
   "execution_count": 1,
   "id": "d2581adc",
   "metadata": {},
   "outputs": [],
   "source": [
    "class A:\n",
    "    pass\n",
    "class B(A):\n",
    "    pass\n",
    "obj = B()"
   ]
  },
  {
   "cell_type": "code",
   "execution_count": 5,
   "id": "791e7773",
   "metadata": {},
   "outputs": [
    {
     "name": "stdout",
     "output_type": "stream",
     "text": [
      "Enter name =RAju\n",
      "Enter address =chabahil\n",
      "RAju chabahil\n",
      "Hello world I am RAju. I am from chabahil\n"
     ]
    }
   ],
   "source": [
    "class Data:\n",
    "    def __init__(self):\n",
    "        self.name = input(\"Enter name =\")\n",
    "        self.add = input(\"Enter address =\")\n",
    "    def data(self):\n",
    "        print(self.name,self.add)\n",
    "class Info(Data):\n",
    "    def info(self):\n",
    "        print(f\"Hello world I am {self.name}. I am from {self.add}\")\n",
    "obj = Info()\n",
    "obj.data()\n",
    "obj.info()\n"
   ]
  },
  {
   "cell_type": "code",
   "execution_count": 7,
   "id": "c3f2686f",
   "metadata": {},
   "outputs": [
    {
     "name": "stdout",
     "output_type": "stream",
     "text": [
      "Enter name =Rama\n",
      "Enter add = Chhetrapati\n",
      "Rama Chhetrapati\n",
      "Hello world I am Rama. I am from Chhetrapati\n"
     ]
    }
   ],
   "source": [
    "class Data:\n",
    "    def __init__(self,name,add):\n",
    "        self.name = name\n",
    "        self.add = add\n",
    "        \n",
    "    def data(self):\n",
    "        print(self.name,self.add)\n",
    "        \n",
    "class Info(Data):\n",
    "    def info(self):\n",
    "        print(f\"Hello world I am {self.name}. I am from {self.add}\")\n",
    "name = input(\"Enter name =\")\n",
    "add = input(\"Enter add = \")\n",
    "obj = Info(name,add)\n",
    "\n",
    "obj.data()\n",
    "obj.info()\n"
   ]
  },
  {
   "cell_type": "code",
   "execution_count": 9,
   "id": "4c185483",
   "metadata": {},
   "outputs": [
    {
     "name": "stdout",
     "output_type": "stream",
     "text": [
      "Enter name =Charu\n",
      "Enter add = Jawalakhel\n",
      "Charu Jawalakhel\n",
      "Hello world I am Charu. I am from Jawalakhel\n"
     ]
    }
   ],
   "source": [
    "class Data:\n",
    "    def __init__(self,add):\n",
    "            self.add = add\n",
    "        \n",
    "    def data(self):\n",
    "        print(self.name,self.add)\n",
    "        \n",
    "class Info(Data):\n",
    "    def __init__(self,name,add):\n",
    "        self.name = name\n",
    "        Data.__init__(self,add)\n",
    "        \n",
    "    def info(self):\n",
    "        print(f\"Hello world I am {self.name}. I am from {self.add}\")\n",
    "name = input(\"Enter name =\")\n",
    "add = input(\"Enter add = \")\n",
    "obj = Info(name,add)\n",
    "\n",
    "obj.data()\n",
    "obj.info()"
   ]
  },
  {
   "cell_type": "code",
   "execution_count": null,
   "id": "d26b6c5c",
   "metadata": {},
   "outputs": [],
   "source": [
    "#types of Inheritance\n",
    "#Multilevel Inheritance\n",
    "\n",
    "Class A:\n",
    "    pass\n",
    "Class B(A):\n",
    "    pass\n",
    "class C(B):\n",
    "    pass\n",
    "obj = C()"
   ]
  },
  {
   "cell_type": "code",
   "execution_count": null,
   "id": "a7416773",
   "metadata": {},
   "outputs": [],
   "source": [
    "#Multiple Inheritance\n",
    "class A:\n",
    "    pass\n",
    "class B:\n",
    "    pass\n",
    "class C(A,B):\n",
    "    pass\n",
    "obj = c()"
   ]
  },
  {
   "cell_type": "code",
   "execution_count": 13,
   "id": "82032cca",
   "metadata": {},
   "outputs": [
    {
     "name": "stdout",
     "output_type": "stream",
     "text": [
      "Enter name =hari\n",
      "Enter add = kirtipur\n",
      "Enter age 45\n",
      "hari 45\n",
      "Hello world I am hari. I am from 45. I am of age kirtipur.\n"
     ]
    }
   ],
   "source": [
    "#Multilevel\n",
    "\n",
    "class Age:\n",
    "    def __init__(self,age):\n",
    "        self.age= age\n",
    "\n",
    "class Data(Age):\n",
    "    def __init__(self,age,add):\n",
    "            self.add = add\n",
    "            Age.__init__(self,age)\n",
    "        \n",
    "    def data(self):\n",
    "        print(self.name,self.add)\n",
    "        \n",
    "class Info(Data):\n",
    "    def __init__(self,name,age,add):\n",
    "        self.name = name\n",
    "        Data.__init__(self,add,age)\n",
    "        \n",
    "    def info(self):\n",
    "        print(f\"Hello world I am {self.name}. I am from {self.add}. I am of age {self.age}.\")\n",
    "name = input(\"Enter name =\")\n",
    "add = input(\"Enter add = \")\n",
    "age = input(\"Enter age \")\n",
    "obj = Info(name,age,add)\n",
    "\n",
    "obj.data()\n",
    "obj.info()"
   ]
  },
  {
   "cell_type": "code",
   "execution_count": 19,
   "id": "3c7640ef",
   "metadata": {},
   "outputs": [
    {
     "name": "stdout",
     "output_type": "stream",
     "text": [
      "Enter name =gfhghj\n",
      "Enter add = kjnlkj\n",
      "Enter age 45\n",
      "gfhghj kjnlkj\n",
      "Hello world I am gfhghj. I am from kjnlkj. I am of age 45.\n"
     ]
    }
   ],
   "source": [
    "#Multiple\n",
    "class Age:\n",
    "    def __init__(self,age):\n",
    "        self.age= age\n",
    "    def age(self):\n",
    "         print(self.age)\n",
    "\n",
    "class Address:\n",
    "    def __init__(self,add):\n",
    "            self.add = add\n",
    "           \n",
    "        \n",
    "    def data(self):\n",
    "        print(self.name,self.add)\n",
    "        \n",
    "class Info(Age,Address):\n",
    "    def __init__(self,name,age,add):\n",
    "        self.name = name\n",
    "        Address.__init__(self,add)\n",
    "        Age.__init__(self,age)\n",
    "        \n",
    "    def info(self):\n",
    "        print(f\"Hello world I am {self.name}. I am from {self.add}. I am of age {self.age}.\")\n",
    "name = input(\"Enter name =\")\n",
    "add = input(\"Enter add = \")\n",
    "age = input(\"Enter age \")\n",
    "obj = Info(name,age,add)\n",
    "\n",
    "obj.data()\n",
    "obj.info()"
   ]
  },
  {
   "cell_type": "code",
   "execution_count": 21,
   "id": "9f7a95d0",
   "metadata": {},
   "outputs": [
    {
     "name": "stdout",
     "output_type": "stream",
     "text": [
      "Enter name = Ram\n",
      "Enter address = Baluwatar\n",
      "Ram Baluwatar\n"
     ]
    }
   ],
   "source": [
    "#Public Members\n",
    "class Data:\n",
    "    def __init__(self):\n",
    "        self.name = input(\"Enter name = \")\n",
    "        self.add = input(\"Enter address = \")\n",
    "        \n",
    "obj = Data()\n",
    "print(obj.name,obj.add)\n"
   ]
  },
  {
   "cell_type": "code",
   "execution_count": null,
   "id": "d5a9ad0b",
   "metadata": {},
   "outputs": [],
   "source": []
  }
 ],
 "metadata": {
  "kernelspec": {
   "display_name": "Python 3 (ipykernel)",
   "language": "python",
   "name": "python3"
  },
  "language_info": {
   "codemirror_mode": {
    "name": "ipython",
    "version": 3
   },
   "file_extension": ".py",
   "mimetype": "text/x-python",
   "name": "python",
   "nbconvert_exporter": "python",
   "pygments_lexer": "ipython3",
   "version": "3.10.9"
  }
 },
 "nbformat": 4,
 "nbformat_minor": 5
}
