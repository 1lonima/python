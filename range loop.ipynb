{
 "cells": [
  {
   "cell_type": "code",
   "execution_count": 1,
   "id": "242e0929",
   "metadata": {},
   "outputs": [],
   "source": [
    "#loop\n",
    "# for loop\n",
    "# while loop"
   ]
  },
  {
   "cell_type": "code",
   "execution_count": 2,
   "id": "ddd22213",
   "metadata": {},
   "outputs": [],
   "source": [
    "# for loop"
   ]
  },
  {
   "cell_type": "code",
   "execution_count": 3,
   "id": "b7621e25",
   "metadata": {},
   "outputs": [],
   "source": [
    "#range()- it creates sequence of number\n",
    "#range(5) # 0,1,2,3,4\n",
    "#range(1,5) # 1,2,3,4\n",
    "#range(1,10,2) # 1,3,5,7,9  for(i=1;i<10;i= i+2)"
   ]
  },
  {
   "cell_type": "code",
   "execution_count": 5,
   "id": "bd0bd4ee",
   "metadata": {},
   "outputs": [
    {
     "name": "stdout",
     "output_type": "stream",
     "text": [
      "0 hello world\n",
      "1 hello world\n",
      "2 hello world\n",
      "3 hello world\n",
      "4 hello world\n"
     ]
    }
   ],
   "source": [
    "for i in range(5):\n",
    "    print(i,\"hello world\")"
   ]
  },
  {
   "cell_type": "code",
   "execution_count": 6,
   "id": "5aaa6d3c",
   "metadata": {},
   "outputs": [
    {
     "name": "stdout",
     "output_type": "stream",
     "text": [
      "1 hello world\n",
      "2 hello world\n",
      "3 hello world\n",
      "4 hello world\n"
     ]
    }
   ],
   "source": [
    "for i in range(1,5): #'i' should always be less than '5'\n",
    "    print(i,\"hello world\")"
   ]
  },
  {
   "cell_type": "code",
   "execution_count": 7,
   "id": "859f392f",
   "metadata": {},
   "outputs": [
    {
     "name": "stdout",
     "output_type": "stream",
     "text": [
      "1 hello world\n",
      "3 hello world\n",
      "5 hello world\n",
      "7 hello world\n",
      "9 hello world\n"
     ]
    }
   ],
   "source": [
    "for i in range(1,10,2):\n",
    "    print(i,\"hello world\")"
   ]
  },
  {
   "cell_type": "code",
   "execution_count": 9,
   "id": "04b602a8",
   "metadata": {},
   "outputs": [
    {
     "name": "stdout",
     "output_type": "stream",
     "text": [
      "5 hello world\n",
      "3 hello world\n",
      "1 hello world\n"
     ]
    }
   ],
   "source": [
    "#reverse loop\n",
    "for i in range(5,0,-1):    #5,4,3,2,1 #for loop we can only use integers\n",
    "    print(i,\"hello world\")"
   ]
  },
  {
   "cell_type": "code",
   "execution_count": 15,
   "id": "14b31c13",
   "metadata": {},
   "outputs": [
    {
     "name": "stdout",
     "output_type": "stream",
     "text": [
      "Enter n: 2\n",
      "2\n",
      "4\n",
      "6\n",
      "8\n",
      "10\n",
      "12\n",
      "14\n",
      "16\n",
      "18\n",
      "20\n"
     ]
    }
   ],
   "source": [
    "n= int(input(\"Enter n: \"))\n",
    "for i in range(1,11):\n",
    "    print(i*n)"
   ]
  },
  {
   "cell_type": "code",
   "execution_count": 16,
   "id": "e2d605a0",
   "metadata": {},
   "outputs": [
    {
     "name": "stdout",
     "output_type": "stream",
     "text": [
      "Enter n: 5\n",
      "5 * 1 = 5\n",
      "5 * 2 = 10\n",
      "5 * 3 = 15\n",
      "5 * 4 = 20\n",
      "5 * 5 = 25\n",
      "5 * 6 = 30\n",
      "5 * 7 = 35\n",
      "5 * 8 = 40\n",
      "5 * 9 = 45\n",
      "5 * 10 = 50\n"
     ]
    }
   ],
   "source": [
    "# 5 * 1=5\n",
    "n= int(input(\"Enter n: \"))\n",
    "for i in range(1,11):\n",
    "    print(n,\"*\",i,\"=\",i*n)"
   ]
  },
  {
   "cell_type": "code",
   "execution_count": 18,
   "id": "bd1c9758",
   "metadata": {},
   "outputs": [
    {
     "name": "stdout",
     "output_type": "stream",
     "text": [
      "Enter x=1000\n",
      "Enter x=2000\n",
      "Enter x=3000\n",
      "Enter x=4000\n",
      "Enter x=5000\n",
      "15000\n"
     ]
    }
   ],
   "source": [
    "s = 0\n",
    "for i in range(5):\n",
    "    x = int(input(\"Enter x=\"))\n",
    "    s = s+x\n",
    "print(s)\n",
    "                  "
   ]
  },
  {
   "cell_type": "code",
   "execution_count": 1,
   "id": "e9e8f31a",
   "metadata": {},
   "outputs": [
    {
     "name": "stdout",
     "output_type": "stream",
     "text": [
      "Enter x =1\n",
      "Enter x =2\n"
     ]
    }
   ],
   "source": [
    "for i in range(2):\n",
    "    x = int (input(\"Enter x =\"))"
   ]
  },
  {
   "cell_type": "code",
   "execution_count": 20,
   "id": "299dc862",
   "metadata": {},
   "outputs": [
    {
     "name": "stdout",
     "output_type": "stream",
     "text": [
      "Enter x=1000\n",
      "now your total balance is : 1000\n",
      "Enter x=2000\n",
      "now your total balance is : 3000\n",
      "Enter x=3000\n",
      "now your total balance is : 6000\n",
      "Enter x=4000\n",
      "now your total balance is : 10000\n",
      "Enter x=5000\n",
      "now your total balance is : 15000\n"
     ]
    }
   ],
   "source": [
    "s = 0\n",
    "for i in range(5):\n",
    "    x = int(input(\"Enter x=\"))\n",
    "    s = s+x\n",
    "    print('now your total balance is :',s)\n",
    "          "
   ]
  },
  {
   "cell_type": "code",
   "execution_count": 5,
   "id": "1a037516",
   "metadata": {},
   "outputs": [
    {
     "name": "stdout",
     "output_type": "stream",
     "text": [
      "Enter n =4\n",
      "Enter x=ram\n",
      "Attendance is :  hello ram\n",
      " \n",
      "\n",
      "Enter x=shyam\n",
      "Attendance is :  hello ram\n",
      "shyam\n",
      " \n",
      "\n"
     ]
    },
    {
     "ename": "KeyboardInterrupt",
     "evalue": "Interrupted by user",
     "output_type": "error",
     "traceback": [
      "\u001b[1;31m---------------------------------------------------------------------------\u001b[0m",
      "\u001b[1;31mKeyboardInterrupt\u001b[0m                         Traceback (most recent call last)",
      "Cell \u001b[1;32mIn[5], line 5\u001b[0m\n\u001b[0;32m      3\u001b[0m n \u001b[38;5;241m=\u001b[39m \u001b[38;5;28mint\u001b[39m(\u001b[38;5;28minput\u001b[39m(\u001b[38;5;124m\"\u001b[39m\u001b[38;5;124mEnter n =\u001b[39m\u001b[38;5;124m\"\u001b[39m))\n\u001b[0;32m      4\u001b[0m \u001b[38;5;28;01mfor\u001b[39;00m i \u001b[38;5;129;01min\u001b[39;00m \u001b[38;5;28mrange\u001b[39m(n):\n\u001b[1;32m----> 5\u001b[0m     x \u001b[38;5;241m=\u001b[39m \u001b[38;5;28;43minput\u001b[39;49m\u001b[43m(\u001b[49m\u001b[38;5;124;43m\"\u001b[39;49m\u001b[38;5;124;43mEnter x=\u001b[39;49m\u001b[38;5;124;43m\"\u001b[39;49m\u001b[43m)\u001b[49m\n\u001b[0;32m      6\u001b[0m     s \u001b[38;5;241m=\u001b[39m s\u001b[38;5;241m+\u001b[39mx\u001b[38;5;241m+\u001b[39m\u001b[38;5;124m\"\u001b[39m\u001b[38;5;130;01m\\n\u001b[39;00m\u001b[38;5;124m\"\u001b[39m\n\u001b[0;32m      7\u001b[0m     \u001b[38;5;28mprint\u001b[39m(\u001b[38;5;124m'\u001b[39m\u001b[38;5;124mAttendance is :\u001b[39m\u001b[38;5;124m'\u001b[39m,s,\u001b[38;5;124m\"\u001b[39m\u001b[38;5;130;01m\\n\u001b[39;00m\u001b[38;5;124m\"\u001b[39m)\n",
      "File \u001b[1;32m~\\anaconda3\\lib\\site-packages\\ipykernel\\kernelbase.py:1175\u001b[0m, in \u001b[0;36mKernel.raw_input\u001b[1;34m(self, prompt)\u001b[0m\n\u001b[0;32m   1171\u001b[0m \u001b[38;5;28;01mif\u001b[39;00m \u001b[38;5;129;01mnot\u001b[39;00m \u001b[38;5;28mself\u001b[39m\u001b[38;5;241m.\u001b[39m_allow_stdin:\n\u001b[0;32m   1172\u001b[0m     \u001b[38;5;28;01mraise\u001b[39;00m StdinNotImplementedError(\n\u001b[0;32m   1173\u001b[0m         \u001b[38;5;124m\"\u001b[39m\u001b[38;5;124mraw_input was called, but this frontend does not support input requests.\u001b[39m\u001b[38;5;124m\"\u001b[39m\n\u001b[0;32m   1174\u001b[0m     )\n\u001b[1;32m-> 1175\u001b[0m \u001b[38;5;28;01mreturn\u001b[39;00m \u001b[38;5;28;43mself\u001b[39;49m\u001b[38;5;241;43m.\u001b[39;49m\u001b[43m_input_request\u001b[49m\u001b[43m(\u001b[49m\n\u001b[0;32m   1176\u001b[0m \u001b[43m    \u001b[49m\u001b[38;5;28;43mstr\u001b[39;49m\u001b[43m(\u001b[49m\u001b[43mprompt\u001b[49m\u001b[43m)\u001b[49m\u001b[43m,\u001b[49m\n\u001b[0;32m   1177\u001b[0m \u001b[43m    \u001b[49m\u001b[38;5;28;43mself\u001b[39;49m\u001b[38;5;241;43m.\u001b[39;49m\u001b[43m_parent_ident\u001b[49m\u001b[43m[\u001b[49m\u001b[38;5;124;43m\"\u001b[39;49m\u001b[38;5;124;43mshell\u001b[39;49m\u001b[38;5;124;43m\"\u001b[39;49m\u001b[43m]\u001b[49m\u001b[43m,\u001b[49m\n\u001b[0;32m   1178\u001b[0m \u001b[43m    \u001b[49m\u001b[38;5;28;43mself\u001b[39;49m\u001b[38;5;241;43m.\u001b[39;49m\u001b[43mget_parent\u001b[49m\u001b[43m(\u001b[49m\u001b[38;5;124;43m\"\u001b[39;49m\u001b[38;5;124;43mshell\u001b[39;49m\u001b[38;5;124;43m\"\u001b[39;49m\u001b[43m)\u001b[49m\u001b[43m,\u001b[49m\n\u001b[0;32m   1179\u001b[0m \u001b[43m    \u001b[49m\u001b[43mpassword\u001b[49m\u001b[38;5;241;43m=\u001b[39;49m\u001b[38;5;28;43;01mFalse\u001b[39;49;00m\u001b[43m,\u001b[49m\n\u001b[0;32m   1180\u001b[0m \u001b[43m\u001b[49m\u001b[43m)\u001b[49m\n",
      "File \u001b[1;32m~\\anaconda3\\lib\\site-packages\\ipykernel\\kernelbase.py:1217\u001b[0m, in \u001b[0;36mKernel._input_request\u001b[1;34m(self, prompt, ident, parent, password)\u001b[0m\n\u001b[0;32m   1214\u001b[0m             \u001b[38;5;28;01mbreak\u001b[39;00m\n\u001b[0;32m   1215\u001b[0m \u001b[38;5;28;01mexcept\u001b[39;00m \u001b[38;5;167;01mKeyboardInterrupt\u001b[39;00m:\n\u001b[0;32m   1216\u001b[0m     \u001b[38;5;66;03m# re-raise KeyboardInterrupt, to truncate traceback\u001b[39;00m\n\u001b[1;32m-> 1217\u001b[0m     \u001b[38;5;28;01mraise\u001b[39;00m \u001b[38;5;167;01mKeyboardInterrupt\u001b[39;00m(\u001b[38;5;124m\"\u001b[39m\u001b[38;5;124mInterrupted by user\u001b[39m\u001b[38;5;124m\"\u001b[39m) \u001b[38;5;28;01mfrom\u001b[39;00m \u001b[38;5;28mNone\u001b[39m\n\u001b[0;32m   1218\u001b[0m \u001b[38;5;28;01mexcept\u001b[39;00m \u001b[38;5;167;01mException\u001b[39;00m:\n\u001b[0;32m   1219\u001b[0m     \u001b[38;5;28mself\u001b[39m\u001b[38;5;241m.\u001b[39mlog\u001b[38;5;241m.\u001b[39mwarning(\u001b[38;5;124m\"\u001b[39m\u001b[38;5;124mInvalid Message:\u001b[39m\u001b[38;5;124m\"\u001b[39m, exc_info\u001b[38;5;241m=\u001b[39m\u001b[38;5;28;01mTrue\u001b[39;00m)\n",
      "\u001b[1;31mKeyboardInterrupt\u001b[0m: Interrupted by user"
     ]
    }
   ],
   "source": [
    "# string loop\n",
    "s = \"  \"\n",
    "n = int(input(\"Enter n =\"))\n",
    "for i in range(n):\n",
    "    x = input(\"Enter x=\")\n",
    "    s = s+x+\"\\n\"\n",
    "    print('Attendance is :',s,\"\\n\")"
   ]
  },
  {
   "cell_type": "code",
   "execution_count": 22,
   "id": "7a5b42d1",
   "metadata": {},
   "outputs": [
    {
     "name": "stdout",
     "output_type": "stream",
     "text": [
      "Enter n =5\n",
      "Enter x=1000\n",
      "now your total balance is : 1000\n",
      "Enter x=2000\n",
      "now your total balance is : 3000\n",
      "Enter x=1000\n",
      "now your total balance is : 4000\n",
      "Enter x=1000\n",
      "now your total balance is : 5000\n",
      "Enter x=1000\n",
      "now your total balance is : 6000\n"
     ]
    }
   ],
   "source": [
    "s = 0\n",
    "n = int(input(\"Enter n =\"))\n",
    "for i in range(n):\n",
    "    x = int(input(\"Enter x=\"))\n",
    "    s = s+x\n",
    "    print('now your total balance is :',s)"
   ]
  },
  {
   "cell_type": "code",
   "execution_count": null,
   "id": "6f18ee8f",
   "metadata": {},
   "outputs": [],
   "source": [
    "s = 100\n",
    "n = int(input(\"Enter n =\"))\n",
    "for i in range(n):\n",
    "    x = int(input(\"Enter x=\"))\n",
    "    s = s+x\n",
    "    print('now your total balance is :',s)"
   ]
  },
  {
   "cell_type": "code",
   "execution_count": 35,
   "id": "b03a58be",
   "metadata": {},
   "outputs": [
    {
     "name": "stdout",
     "output_type": "stream",
     "text": [
      "Enter n =2\n",
      "Enter name=Ram\n",
      "Enter phone no.987166332\n",
      "Ram--987166332\n",
      "\n",
      "Enter name=Shyam\n",
      "Enter phone no.987245631\n",
      "Ram--987166332\n",
      "Shyam--987245631\n",
      "\n"
     ]
    }
   ],
   "source": [
    "s = \"\"\n",
    "n = int(input(\"Enter n =\"))\n",
    "for i in range(n):\n",
    "    name = input(\"Enter name=\")\n",
    "    phone = input(\"Enter phone no.\")\n",
    "    s = s + name+\"--\" + phone + \"\\n\"\n",
    "    print(s)"
   ]
  },
  {
   "cell_type": "code",
   "execution_count": 36,
   "id": "bd5e0823",
   "metadata": {},
   "outputs": [
    {
     "name": "stdout",
     "output_type": "stream",
     "text": [
      "Enter n =2\n",
      "Enter name=Ram\n",
      "Enter phone no.9854217895\n",
      "Ram--9854217895\n",
      "\n",
      "Enter name=Hari\n",
      "Enter phone no.569754\n",
      "Ram--9854217895\n",
      "Hari--569754\n",
      "\n"
     ]
    }
   ],
   "source": [
    " s = \"\"\n",
    "n = int(input(\"Enter n =\"))\n",
    "for i in range(n):\n",
    "    name = input(\"Enter name=\")\n",
    "    phone = int(input(\"Enter phone no.\"))\n",
    "    s = s + name+\"--\" + str(phone) + \"\\n\"\n",
    "    print(s)"
   ]
  },
  {
   "cell_type": "code",
   "execution_count": 37,
   "id": "e4783b9f",
   "metadata": {},
   "outputs": [
    {
     "ename": "SyntaxError",
     "evalue": "invalid syntax (1675492391.py, line 1)",
     "output_type": "error",
     "traceback": [
      "\u001b[1;36m  Cell \u001b[1;32mIn[37], line 1\u001b[1;36m\u001b[0m\n\u001b[1;33m    Write a program to find factorial\u001b[0m\n\u001b[1;37m          ^\u001b[0m\n\u001b[1;31mSyntaxError\u001b[0m\u001b[1;31m:\u001b[0m invalid syntax\n"
     ]
    }
   ],
   "source": [
    "#Write a program to find factorial 5! = 1*2*3*4*5\n",
    "#write a progam to  add and mulitply numbers from 1 to 100\n",
    "#Write a program to make different pattern line triangle\n",
    "#Write a program to create a billing system (product, price qty, total (price*qty) and all total)"
   ]
  },
  {
   "cell_type": "code",
   "execution_count": 2,
   "id": "a67a2394",
   "metadata": {},
   "outputs": [],
   "source": [
    "# String"
   ]
  },
  {
   "cell_type": "code",
   "execution_count": 5,
   "id": "b6e802be",
   "metadata": {},
   "outputs": [
    {
     "name": "stdout",
     "output_type": "stream",
     "text": [
      "P Hello world\n",
      "y Hello world\n",
      "t Hello world\n",
      "h Hello world\n",
      "o Hello world\n",
      "n Hello world\n"
     ]
    }
   ],
   "source": [
    "a = \"Python\"\n",
    "for i in a:\n",
    "    print(i, \"Hello world\")"
   ]
  },
  {
   "cell_type": "code",
   "execution_count": 6,
   "id": "c05c55c1",
   "metadata": {},
   "outputs": [
    {
     "name": "stdout",
     "output_type": "stream",
     "text": [
      "h\n",
      "e\n",
      "l\n",
      "l\n",
      "o\n",
      " \n",
      "w\n",
      "o\n",
      "r\n",
      "l\n",
      "d\n",
      " \n",
      "I\n",
      " \n",
      "a\n",
      "m\n",
      " \n",
      "p\n",
      "y\n",
      "t\n",
      "h\n",
      "o\n",
      "n\n"
     ]
    }
   ],
   "source": [
    "a = \"hello world I am python\"\n",
    "for i in a:\n",
    "    print(i)"
   ]
  },
  {
   "cell_type": "code",
   "execution_count": 7,
   "id": "4503d3c8",
   "metadata": {},
   "outputs": [
    {
     "name": "stdout",
     "output_type": "stream",
     "text": [
      "hello world I am python"
     ]
    }
   ],
   "source": [
    "a = \"hello world I am python\"\n",
    "for i in a:\n",
    "    print(i,end = \"\")"
   ]
  },
  {
   "cell_type": "code",
   "execution_count": 8,
   "id": "332cda65",
   "metadata": {},
   "outputs": [
    {
     "name": "stdout",
     "output_type": "stream",
     "text": [
      "h.e.l.l.o. .w.o.r.l.d. .I. .a.m. .p.y.t.h.o.n."
     ]
    }
   ],
   "source": [
    "a = \"hello world I am python\"\n",
    "for i in a:\n",
    "    print(i,end = \".\")"
   ]
  },
  {
   "cell_type": "code",
   "execution_count": 9,
   "id": "e2afc1a9",
   "metadata": {},
   "outputs": [
    {
     "name": "stdout",
     "output_type": "stream",
     "text": [
      "hello world I am python"
     ]
    }
   ],
   "source": [
    "a = \"hello world I am python\"\n",
    "for i in a:\n",
    "    if i !=\"\":\n",
    "        print(i,end = \"\")"
   ]
  },
  {
   "cell_type": "code",
   "execution_count": 10,
   "id": "5837796b",
   "metadata": {},
   "outputs": [
    {
     "name": "stdout",
     "output_type": "stream",
     "text": [
      "hello world I am python"
     ]
    }
   ],
   "source": [
    "a = \"hello world I am python.\"\n",
    "for i in a:\n",
    "    if i !=\".\":\n",
    "        print(i,end = \"\")"
   ]
  },
  {
   "cell_type": "code",
   "execution_count": 11,
   "id": "45c97624",
   "metadata": {},
   "outputs": [
    {
     "name": "stdout",
     "output_type": "stream",
     "text": [
      "hello world I am Ram I am from Kathmandu I am the best"
     ]
    }
   ],
   "source": [
    "a = \"hello world I am Ram. I am from Kathmandu. I am the best.\"\n",
    "for i in a:\n",
    "    if i !=\".\":\n",
    "        print(i,end = \"\")"
   ]
  },
  {
   "cell_type": "code",
   "execution_count": 12,
   "id": "94bb6b22",
   "metadata": {},
   "outputs": [],
   "source": [
    "#while loop\n",
    "# while <condition>:\n",
    "#     <operation>"
   ]
  },
  {
   "cell_type": "code",
   "execution_count": 13,
   "id": "00708ad6",
   "metadata": {},
   "outputs": [
    {
     "name": "stdout",
     "output_type": "stream",
     "text": [
      "0\n",
      "1\n",
      "2\n",
      "3\n",
      "4\n"
     ]
    }
   ],
   "source": [
    "a = 0               #for i in range(5)\n",
    "while a<5:\n",
    "    print(a)\n",
    "    a = a+1\n",
    "    "
   ]
  },
  {
   "cell_type": "code",
   "execution_count": 2,
   "id": "cd502c52",
   "metadata": {},
   "outputs": [
    {
     "name": "stdout",
     "output_type": "stream",
     "text": [
      "1 Hello World\n",
      "2 Hello World\n",
      "3 Hello World\n",
      "4 Hello World\n"
     ]
    }
   ],
   "source": [
    "a = 1               #for i in range(5)\n",
    "while a<5:\n",
    "    print(a, \"Hello World\")\n",
    "    a = a+1"
   ]
  },
  {
   "cell_type": "code",
   "execution_count": 16,
   "id": "fd789afc",
   "metadata": {},
   "outputs": [
    {
     "name": "stdout",
     "output_type": "stream",
     "text": [
      "1 Hello World\n",
      "3 Hello World\n"
     ]
    }
   ],
   "source": [
    "a = 1               #for i in range(5)\n",
    "while a<5:\n",
    "    print(a, \"Hello World\")\n",
    "    a = a+2"
   ]
  },
  {
   "cell_type": "code",
   "execution_count": 17,
   "id": "78dad1f9",
   "metadata": {},
   "outputs": [
    {
     "name": "stdout",
     "output_type": "stream",
     "text": [
      "0 Hello World\n",
      "0.5 Hello World\n",
      "1.0 Hello World\n",
      "1.5 Hello World\n",
      "2.0 Hello World\n"
     ]
    }
   ],
   "source": [
    "a = 0               #for i in range(1,2). in while loop float numbers can be used\n",
    "while a<=2:\n",
    "    print(a, \"Hello World\")\n",
    "    a = a+0.5"
   ]
  },
  {
   "cell_type": "code",
   "execution_count": 18,
   "id": "cbbd26dd",
   "metadata": {},
   "outputs": [
    {
     "name": "stdout",
     "output_type": "stream",
     "text": [
      "Enter the value of n =10\n",
      "10 * 1 = 10\n",
      "10 * 2 = 20\n",
      "10 * 3 = 30\n",
      "10 * 4 = 40\n",
      "10 * 5 = 50\n",
      "10 * 6 = 60\n",
      "10 * 7 = 70\n",
      "10 * 8 = 80\n",
      "10 * 9 = 90\n",
      "10 * 10 = 100\n"
     ]
    }
   ],
   "source": [
    "i = 1\n",
    "n = int(input(\"Enter the value of n =\"))\n",
    "while i<=10:\n",
    "    print(n,\"*\",i,\"=\",i*n)\n",
    "    i = i+1"
   ]
  },
  {
   "cell_type": "code",
   "execution_count": 19,
   "id": "8ceb724c",
   "metadata": {},
   "outputs": [
    {
     "name": "stdout",
     "output_type": "stream",
     "text": [
      "Enter n=5\n",
      "Enter x=1\n",
      "now your total balance =  1\n",
      "Enter x=2\n",
      "now your total balance =  3\n",
      "Enter x=3\n",
      "now your total balance =  6\n",
      "Enter x=5\n",
      "now your total balance =  11\n",
      "Enter x=4\n",
      "now your total balance =  15\n"
     ]
    }
   ],
   "source": [
    "s = 0\n",
    "i = 0\n",
    "n = int(input(\"Enter n=\"))\n",
    "while i<n:\n",
    "    x = int(input(\"Enter x=\"))\n",
    "    s = s+x\n",
    "    i += 1 # i= i+1\n",
    "    print(\"now your total balance = \",s)"
   ]
  },
  {
   "cell_type": "code",
   "execution_count": 11,
   "id": "12a85cd5",
   "metadata": {},
   "outputs": [
    {
     "name": "stdout",
     "output_type": "stream",
     "text": [
      "Enter n =3\n",
      "Enter name=raja\n",
      "Enter your age45\n",
      "Enter name=rani\n",
      "Enter your age37\n",
      "raja--45\n",
      "rani--37\n",
      "\n"
     ]
    }
   ],
   "source": [
    "s = \"\"\n",
    "i = 1\n",
    "n = int(input(\"Enter n =\"))\n",
    "while i<n:\n",
    "    name = input(\"Enter name=\")\n",
    "    age = int(input(\"Enter your age\"))\n",
    "    s = s + name+\"--\" + str(age) + \"\\n\"\n",
    "    i = i+1\n",
    "print(s)"
   ]
  },
  {
   "cell_type": "code",
   "execution_count": 21,
   "id": "dac3e118",
   "metadata": {},
   "outputs": [
    {
     "name": "stdout",
     "output_type": "stream",
     "text": [
      "5\n",
      "4\n",
      "3\n",
      "2\n",
      "1\n",
      "0\n"
     ]
    }
   ],
   "source": [
    "i = 5\n",
    "while i>=0:\n",
    "    print(i)\n",
    "    i = i-1\n",
    "    "
   ]
  },
  {
   "cell_type": "code",
   "execution_count": 22,
   "id": "9b1cf5b8",
   "metadata": {},
   "outputs": [
    {
     "name": "stdout",
     "output_type": "stream",
     "text": [
      "Enter value of n5\n",
      "120\n"
     ]
    }
   ],
   "source": [
    "#Write a program to find factorial 5! = 1*2*3*4*5\n",
    "# i = 1\n",
    "# n = int(input(\"Enter the value of n =\"))\n",
    "# for i in range(1,n+1):\n",
    "#     print(i)\n",
    "\n",
    "i = 1\n",
    "fac = 1\n",
    "n = int(input(\"Enter value of n\"))\n",
    "for i in range(1, n+1):\n",
    "    fac = i*fac\n",
    "#    print(fac)\n",
    "print(fac)"
   ]
  },
  {
   "cell_type": "code",
   "execution_count": 34,
   "id": "5b15861b",
   "metadata": {},
   "outputs": [],
   "source": [
    "#Write a program to make different pattern like triangle"
   ]
  },
  {
   "cell_type": "code",
   "execution_count": 7,
   "id": "a7350e2e",
   "metadata": {},
   "outputs": [
    {
     "name": "stdout",
     "output_type": "stream",
     "text": [
      "o\n",
      "oo\n",
      "ooo\n",
      "oooo\n",
      "ooooo\n"
     ]
    }
   ],
   "source": [
    "#n = int(input(\"The value of n=\"))\n",
    "n = 5\n",
    "for i in range(1,n+1):\n",
    "    print(i*\"o\")"
   ]
  },
  {
   "cell_type": "code",
   "execution_count": 40,
   "id": "2738ff57",
   "metadata": {},
   "outputs": [
    {
     "name": "stdout",
     "output_type": "stream",
     "text": [
      "ooooo\n",
      "oooo\n",
      "ooo\n",
      "oo\n",
      "o\n"
     ]
    }
   ],
   "source": [
    "n = 5\n",
    "for i in range(n,0,-1):\n",
    "    print(i*\"o\")"
   ]
  },
  {
   "cell_type": "code",
   "execution_count": null,
   "id": "10dbaeb2",
   "metadata": {},
   "outputs": [],
   "source": [
    "n = 5\n",
    "for i in range(0,n):\n",
    "    print(i*\"o\")"
   ]
  },
  {
   "cell_type": "markdown",
   "id": "bcc56ddf",
   "metadata": {},
   "source": [
    "# n = 5\n",
    "for i in range(1,n):\n",
    "#    print((2*i-1)* \"\", i * \"o\")\n",
    "    print((n-i)*\" \",2*(i*\"o\")1)\n",
    "   "
   ]
  },
  {
   "cell_type": "code",
   "execution_count": 46,
   "id": "797d2971",
   "metadata": {},
   "outputs": [],
   "source": [
    "#Write a program to find factorial 5! = 1*2*3*4*5\n",
    "#write a progam to  add and mulitply numbers from 1 to 100\n",
    "#Write a program to make different pattern line triangle\n",
    "#Write a program to create a billing system (product, price qty, total (price*qty) and all total)\n",
    "# write to detect if the given number is prime or composite"
   ]
  },
  {
   "cell_type": "code",
   "execution_count": 47,
   "id": "3abe16d2",
   "metadata": {},
   "outputs": [
    {
     "name": "stdout",
     "output_type": "stream",
     "text": [
      "Additon form 1 to 100 = 5050\n",
      "Multiplication from 1 to 100 5051\n"
     ]
    }
   ],
   "source": [
    "a= 0\n",
    "b= 1\n",
    "for i in range(1,101):\n",
    "    a = a+ i\n",
    "    b= b * i\n",
    "print (\"Additon form 1 to 100 =\",a)\n",
    "print (\"Multiplication from 1 to 100\",b)"
   ]
  },
  {
   "cell_type": "code",
   "execution_count": 1,
   "id": "63fad7cd",
   "metadata": {},
   "outputs": [],
   "source": [
    "# #Control Statement\n",
    "# continue: it skips the condition and moves on\n",
    "# break : it stops a loop on the basis of condition\n",
    "# pass"
   ]
  },
  {
   "cell_type": "code",
   "execution_count": 5,
   "id": "6e997c6c",
   "metadata": {},
   "outputs": [
    {
     "name": "stdout",
     "output_type": "stream",
     "text": [
      "0\n",
      "1\n",
      "2\n",
      "3\n",
      "4\n"
     ]
    }
   ],
   "source": [
    "for i in range (10):\n",
    "    if i==5:\n",
    "        break\n",
    "    print(i)"
   ]
  },
  {
   "cell_type": "code",
   "execution_count": 8,
   "id": "d68af1e5",
   "metadata": {},
   "outputs": [
    {
     "name": "stdout",
     "output_type": "stream",
     "text": [
      "0 1 2 3 4 6 7 8 9 "
     ]
    }
   ],
   "source": [
    "for i in range (10):\n",
    "    if i==5:\n",
    "        continue\n",
    "    print(i, end =\" \")"
   ]
  },
  {
   "cell_type": "code",
   "execution_count": 10,
   "id": "72ee24e6",
   "metadata": {},
   "outputs": [
    {
     "name": "stdout",
     "output_type": "stream",
     "text": [
      "H  e  l  l  o     w  o  r  l  d     I     a  m     P  y  t  h  o  n  "
     ]
    }
   ],
   "source": [
    "a =\"Hello world I am Python. I am the best\"\n",
    "for i in a:\n",
    "    if i== \".\":\n",
    "        break\n",
    "    print(i, end = \"  \")"
   ]
  },
  {
   "cell_type": "code",
   "execution_count": 11,
   "id": "af1dad5b",
   "metadata": {},
   "outputs": [
    {
     "name": "stdout",
     "output_type": "stream",
     "text": [
      "0 1 2 3 4 6 7 9 "
     ]
    }
   ],
   "source": [
    "for i in range (10):\n",
    "    if i==5 or i==8:\n",
    "        continue\n",
    "    print(i, end =\" \")"
   ]
  },
  {
   "cell_type": "code",
   "execution_count": 16,
   "id": "df8a5e31",
   "metadata": {},
   "outputs": [
    {
     "name": "stdout",
     "output_type": "stream",
     "text": [
      "H  e  l  l  o     w  o  r  l  d     I     a  m     P  y  t  h  o  n     I     a  m     t  h  e     b  e  s  t     "
     ]
    }
   ],
   "source": [
    "a =\"Hello world I am Python. I am the best. _\"\n",
    "for i in a:\n",
    "    if i== \".\" or i==\"_\":\n",
    "        continue\n",
    "    print(i, end = \"  \")"
   ]
  },
  {
   "cell_type": "code",
   "execution_count": 18,
   "id": "68434630",
   "metadata": {},
   "outputs": [
    {
     "name": "stdout",
     "output_type": "stream",
     "text": [
      "0\n",
      "1\n",
      "2\n",
      "3\n",
      "4\n"
     ]
    }
   ],
   "source": [
    "i = 0\n",
    "while i<=10:\n",
    "    if i==5:\n",
    "        break\n",
    "    print(i)\n",
    "    i = i+1"
   ]
  },
  {
   "cell_type": "code",
   "execution_count": 21,
   "id": "30851651",
   "metadata": {},
   "outputs": [
    {
     "name": "stdout",
     "output_type": "stream",
     "text": [
      "0\n",
      "1\n",
      "2\n",
      "3\n",
      "4\n",
      "6\n",
      "7\n",
      "8\n",
      "9\n",
      "10\n"
     ]
    }
   ],
   "source": [
    "i = 0\n",
    "while i<=10:\n",
    "    if i == 5:\n",
    "        i = i+1\n",
    "        continue\n",
    "    print(i)\n",
    "    i = i+1"
   ]
  },
  {
   "cell_type": "code",
   "execution_count": 9,
   "id": "353b559c",
   "metadata": {},
   "outputs": [
    {
     "name": "stdout",
     "output_type": "stream",
     "text": [
      "5\n",
      "10\n",
      "15\n",
      "20\n",
      "25\n",
      "30\n",
      "35\n",
      "40\n",
      "45\n",
      "50\n"
     ]
    }
   ],
   "source": [
    "for i in range(1,51):\n",
    "    if i % 5 != 0:\n",
    "        continue\n",
    "    print(i)"
   ]
  },
  {
   "cell_type": "code",
   "execution_count": 7,
   "id": "d9537d54",
   "metadata": {},
   "outputs": [
    {
     "name": "stdout",
     "output_type": "stream",
     "text": [
      "1\n",
      "3\n",
      "6\n",
      "10\n",
      "15\n",
      "15\n",
      "362880\n"
     ]
    }
   ],
   "source": [
    "#WAP ato add and multiply numbers from 1 to 100\n",
    "# Add\n",
    "s = 0\n",
    "for i in range(1,6):\n",
    "    s = s+i\n",
    "    #print(s)\n",
    "print(s)\n",
    "#Multiply\n",
    "s=1\n",
    "for i in range(1,10):\n",
    "    s= s*i\n",
    "print(s)\n",
    "    \n"
   ]
  },
  {
   "cell_type": "code",
   "execution_count": 35,
   "id": "cfcc8f71",
   "metadata": {},
   "outputs": [
    {
     "name": "stdout",
     "output_type": "stream",
     "text": [
      "Enter n= 2\n",
      "Enter name =ram\n",
      "Enter price=4\n",
      "Enter qty =2\n",
      "Enter name =shyam\n",
      "Enter price=5\n",
      "Enter qty =4\n",
      "ram428\n",
      "shyam5420\n",
      "\n",
      "28\n"
     ]
    }
   ],
   "source": [
    "#Write a program to create a billing system (product, price, qty, total (price*qty) and all total)\n",
    "bill = \"\"\n",
    "all_total = 0\n",
    "n = int(input(\"Enter n= \"))\n",
    "for i in range(n):\n",
    "    name = input(\"Enter name =\")\n",
    "    price = int(input(\"Enter price=\"))\n",
    "    qty = int(input(\"Enter qty =\"))\n",
    "    total = price * qty\n",
    "    data = name + \"\" +str(price)+ \"\"+ str(qty)+ \"\"+str(total)+ \"\\n\"\n",
    "    bill = bill + data\n",
    "    all_total = all_total + total\n",
    "print(bill) \n",
    "print(all_total)"
   ]
  },
  {
   "cell_type": "code",
   "execution_count": 36,
   "id": "670a763f",
   "metadata": {},
   "outputs": [],
   "source": [
    "#WAP tp detect if the given no. is prime or composite\n",
    "#prime 2,3,5,7,11,13,17\n",
    "#composite 4,6,9,10,12,14,15,16,18"
   ]
  },
  {
   "cell_type": "code",
   "execution_count": 10,
   "id": "fda6cdb4",
   "metadata": {},
   "outputs": [
    {
     "name": "stdout",
     "output_type": "stream",
     "text": [
      "Enter the n2\n",
      "The no. is prime\n"
     ]
    }
   ],
   "source": [
    "n = int(input(\"Enter the n\"))\n",
    "if n >=2:\n",
    "    for i in range(2,  n//2+1):\n",
    "        if n%i==0:\n",
    "            print(\"The no. is composite\")\n",
    "            break\n",
    "    else:\n",
    "        print(\"The no. is prime\")\n",
    "else:\n",
    "    print(\"the no. should be greater than or equals to 2\")"
   ]
  },
  {
   "cell_type": "code",
   "execution_count": null,
   "id": "40e2aa2d",
   "metadata": {},
   "outputs": [],
   "source": []
  }
 ],
 "metadata": {
  "kernelspec": {
   "display_name": "Python 3 (ipykernel)",
   "language": "python",
   "name": "python3"
  },
  "language_info": {
   "codemirror_mode": {
    "name": "ipython",
    "version": 3
   },
   "file_extension": ".py",
   "mimetype": "text/x-python",
   "name": "python",
   "nbconvert_exporter": "python",
   "pygments_lexer": "ipython3",
   "version": "3.10.9"
  }
 },
 "nbformat": 4,
 "nbformat_minor": 5
}
