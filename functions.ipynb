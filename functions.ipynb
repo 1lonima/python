{
 "cells": [
  {
   "cell_type": "code",
   "execution_count": 1,
   "id": "368a3ad3",
   "metadata": {},
   "outputs": [],
   "source": [
    "#funtion\n",
    "#-predefined function\n",
    "#-User defined Function"
   ]
  },
  {
   "cell_type": "code",
   "execution_count": 2,
   "id": "c42854b7",
   "metadata": {},
   "outputs": [],
   "source": [
    "#predefined fucntion\n",
    "#print(), int(), float(), str(), list(), tuple(), dict(), set() etc"
   ]
  },
  {
   "cell_type": "code",
   "execution_count": 3,
   "id": "5c0644e6",
   "metadata": {},
   "outputs": [],
   "source": [
    "#def <function_name>(): #defining function\n",
    "#    <operations>\n",
    "#<function_name>() #calling function"
   ]
  },
  {
   "cell_type": "code",
   "execution_count": 4,
   "id": "7855ab63",
   "metadata": {},
   "outputs": [
    {
     "name": "stdout",
     "output_type": "stream",
     "text": [
      "hello world\n"
     ]
    }
   ],
   "source": [
    "def hello():\n",
    "    print(\"hello world\")\n",
    "hello()"
   ]
  },
  {
   "cell_type": "code",
   "execution_count": 1,
   "id": "4243d9e9",
   "metadata": {},
   "outputs": [
    {
     "name": "stdout",
     "output_type": "stream",
     "text": [
      "Enter the value l = 2\n",
      "Enter the value of b = 3\n",
      "Enter the value of h = 4\n",
      "24\n"
     ]
    },
    {
     "ename": "NameError",
     "evalue": "name 'l' is not defined",
     "output_type": "error",
     "traceback": [
      "\u001b[1;31m---------------------------------------------------------------------------\u001b[0m",
      "\u001b[1;31mNameError\u001b[0m                                 Traceback (most recent call last)",
      "Cell \u001b[1;32mIn[1], line 8\u001b[0m\n\u001b[0;32m      6\u001b[0m     \u001b[38;5;28mprint\u001b[39m(v)\n\u001b[0;32m      7\u001b[0m volume()\n\u001b[1;32m----> 8\u001b[0m \u001b[38;5;28mprint\u001b[39m(\u001b[43ml\u001b[49m,b,h)\n",
      "\u001b[1;31mNameError\u001b[0m: name 'l' is not defined"
     ]
    }
   ],
   "source": [
    "def volume():\n",
    "    l = int(input(\"Enter the value l = \")) #local variable\n",
    "    b = int(input(\"Enter the value of b = \")) #local variable\n",
    "    h = int(input(\"Enter the value of h = \")) #local variable\n",
    "    v =l*b*h\n",
    "    print(v)\n",
    "volume()\n",
    "print(l,b,h)"
   ]
  },
  {
   "cell_type": "code",
   "execution_count": 10,
   "id": "efad310c",
   "metadata": {},
   "outputs": [],
   "source": [
    "#volume (1,2) #variable without \"=\" sign is function and with \"=\" is tuple"
   ]
  },
  {
   "cell_type": "code",
   "execution_count": 8,
   "id": "866ef209",
   "metadata": {},
   "outputs": [
    {
     "name": "stdout",
     "output_type": "stream",
     "text": [
      "Enter the value l = 2\n",
      "Enter the value of b = 5\n",
      "Enter the value of h = 6\n",
      "60\n",
      "2 5 6\n"
     ]
    }
   ],
   "source": [
    "def volume():\n",
    "    global l,b,h,v\n",
    "    l = int(input(\"Enter the value l = \")) #local variable\n",
    "    b = int(input(\"Enter the value of b = \")) #local variable\n",
    "    h = int(input(\"Enter the value of h = \")) #local variable\n",
    "    v =l*b*h\n",
    "    print(v)\n",
    "volume()\n",
    "print(l,b,h)"
   ]
  },
  {
   "cell_type": "code",
   "execution_count": 9,
   "id": "2530b3f0",
   "metadata": {},
   "outputs": [
    {
     "name": "stdout",
     "output_type": "stream",
     "text": [
      "Enter the value l = 2\n",
      "Enter the value of b = 5\n",
      "Enter the value of h = 4\n",
      "40\n",
      "2 5 4\n"
     ]
    }
   ],
   "source": [
    "l = int(input(\"Enter the value l = \")) #global variable\n",
    "b = int(input(\"Enter the value of b = \")) #global variable\n",
    "h = int(input(\"Enter the value of h = \")) #global variable\n",
    "def volume():\n",
    "    v =l*b*h # 'v' varibale is local variable\n",
    "    print(v)\n",
    "volume()\n",
    "print(l,b,h)"
   ]
  },
  {
   "cell_type": "code",
   "execution_count": 11,
   "id": "0ddfded7",
   "metadata": {},
   "outputs": [],
   "source": [
    "#function without arguments and no return type\n",
    "#Function with arguments and no return type\n",
    "#Functions without arguments and return type\n",
    "#Functions with arguments and return type"
   ]
  },
  {
   "cell_type": "code",
   "execution_count": 2,
   "id": "6eac145e",
   "metadata": {},
   "outputs": [],
   "source": [
    "def hello(x):\n",
    "    pass #('pass' means do not run the function)\n",
    "hello('hello world')"
   ]
  },
  {
   "cell_type": "code",
   "execution_count": 13,
   "id": "2130ee6c",
   "metadata": {},
   "outputs": [
    {
     "name": "stdout",
     "output_type": "stream",
     "text": [
      "hello world\n"
     ]
    }
   ],
   "source": [
    "def hello(x): #'x' is the parameter\n",
    "   print(x)\n",
    "hello('hello world') #'hello world' is argument"
   ]
  },
  {
   "cell_type": "code",
   "execution_count": 19,
   "id": "dc7026ae",
   "metadata": {},
   "outputs": [
    {
     "name": "stdout",
     "output_type": "stream",
     "text": [
      "Enter the value l = 2\n",
      "Enter the value of b = 3\n",
      "Enter the value of h = 7\n",
      "42\n"
     ]
    }
   ],
   "source": [
    "def volume(x,y,z):\n",
    "      v =x*y*z #local variable\n",
    "      print(v)\n",
    "\n",
    "l = int(input(\"Enter the value l = \")) \n",
    "b = int(input(\"Enter the value of b = \")) \n",
    "h = int(input(\"Enter the value of h = \")) \n",
    "  \n",
    "volume(l,b,h)\n"
   ]
  },
  {
   "cell_type": "code",
   "execution_count": 22,
   "id": "a2e73616",
   "metadata": {},
   "outputs": [
    {
     "name": "stdout",
     "output_type": "stream",
     "text": [
      "Enter value of l = 2\n",
      "Enter value of b =3\n",
      "Enter the value of h =7\n",
      "6\n",
      "42\n"
     ]
    }
   ],
   "source": [
    "def area(x,y):\n",
    "    a = x*y\n",
    "    print(a)\n",
    "def volume(x,y,z):\n",
    "    v = x*y*z\n",
    "    print(v)\n",
    "l = int(input(\"Enter value of l = \"))\n",
    "b = int(input(\"Enter value of b =\"))\n",
    "h = int(input(\"Enter the value of h =\"))\n",
    "area(l,b)\n",
    "volume(l,b,h)"
   ]
  },
  {
   "cell_type": "code",
   "execution_count": 32,
   "id": "4bcc15b9",
   "metadata": {},
   "outputs": [
    {
     "name": "stdout",
     "output_type": "stream",
     "text": [
      "Enter name = Rishav\n",
      "Enter age = 42\n",
      "Enter add = Chakrapath\n",
      "Hello world I am Rishav. I am from Chakrapath.I am of 42.\n"
     ]
    }
   ],
   "source": [
    "def info(l):\n",
    "    name,age,add = l\n",
    "    print(f\"Hello world I am {name}. I am from {add}.I am of {age}.\")\n",
    "    \n",
    "name = input(\"Enter name = \")\n",
    "age = int(input(\"Enter age = \"))\n",
    "add = input(\"Enter add = \")\n",
    "\n",
    "l= [name,age,add]\n",
    "\n",
    "info(l)\n"
   ]
  },
  {
   "cell_type": "code",
   "execution_count": 31,
   "id": "419a50d3",
   "metadata": {},
   "outputs": [
    {
     "name": "stdout",
     "output_type": "stream",
     "text": [
      "Enter name = Lonima\n",
      "Enter age = 57\n",
      "Enter add = Baluwatar\n",
      "Hello world I am Lonima. I am from Baluwatar.I am of 57.\n"
     ]
    }
   ],
   "source": [
    "#the same program can be written as follows however, the variable might take up space\n",
    "def info(x):\n",
    "    name,age,add = x\n",
    "    print(f\"Hello world I am {name}. I am from {add}.I am of {age}.\")\n",
    "    \n",
    "name = input(\"Enter name = \")\n",
    "age = int(input(\"Enter age = \"))\n",
    "add = input(\"Enter add = \")\n",
    "\n",
    "l= [name,age,add]\n",
    "\n",
    "info(l)"
   ]
  },
  {
   "cell_type": "code",
   "execution_count": 3,
   "id": "512f1483",
   "metadata": {},
   "outputs": [
    {
     "name": "stdout",
     "output_type": "stream",
     "text": [
      "I love c++\n",
      "I love c\n",
      "I love Java\n",
      "I love Python\n"
     ]
    }
   ],
   "source": [
    "def language(lan = 'Python'):\n",
    "    print(f\"I love {lan}\")\n",
    "language(\"c++\")\n",
    "language(\"c\")\n",
    "language(\"Java\")\n",
    "language()"
   ]
  },
  {
   "cell_type": "code",
   "execution_count": 33,
   "id": "e1bbc11e",
   "metadata": {},
   "outputs": [],
   "source": [
    "#return type function"
   ]
  },
  {
   "cell_type": "code",
   "execution_count": 40,
   "id": "c5b27a2c",
   "metadata": {},
   "outputs": [
    {
     "data": {
      "text/plain": [
       "'Hello world'"
      ]
     },
     "execution_count": 40,
     "metadata": {},
     "output_type": "execute_result"
    }
   ],
   "source": [
    "def hello():\n",
    "    return\"Hello world\"\n",
    "hello() #or type print(hello())"
   ]
  },
  {
   "cell_type": "code",
   "execution_count": 38,
   "id": "b1581cb7",
   "metadata": {},
   "outputs": [
    {
     "data": {
      "text/plain": [
       "50"
      ]
     },
     "execution_count": 38,
     "metadata": {},
     "output_type": "execute_result"
    }
   ],
   "source": [
    "def area(l,b):\n",
    "    a = l*b\n",
    "    return a\n",
    "area(10,5)\n"
   ]
  },
  {
   "cell_type": "code",
   "execution_count": 39,
   "id": "28074727",
   "metadata": {},
   "outputs": [
    {
     "name": "stdout",
     "output_type": "stream",
     "text": [
      "50\n"
     ]
    }
   ],
   "source": [
    "def area(l,b):\n",
    "    a = l*b\n",
    "    return a\n",
    "x=area(10,5)\n",
    "print(x)"
   ]
  },
  {
   "cell_type": "code",
   "execution_count": 1,
   "id": "55325e9e",
   "metadata": {},
   "outputs": [],
   "source": [
    "# new class"
   ]
  },
  {
   "cell_type": "code",
   "execution_count": 3,
   "id": "b4d78dd5",
   "metadata": {},
   "outputs": [
    {
     "name": "stdout",
     "output_type": "stream",
     "text": [
      "Enter the value of length = 5\n",
      "Enter the value of breadth = 8\n",
      "Enter the value of height = 7\n",
      "The area is =  40\n",
      "The volume is  280\n"
     ]
    }
   ],
   "source": [
    "def area(l,b):\n",
    "    a = l*b\n",
    "    return a\n",
    "l = int(input(\"Enter the value of length = \"))\n",
    "b = int(input(\"Enter the value of breadth = \"))\n",
    "h = int(input(\"Enter the value of height = \"))\n",
    "ar = area(l,b)\n",
    "print(\"The area is = \", ar)\n",
    "volume = ar*h\n",
    "print(\"The volume is \", volume)\n",
    "              "
   ]
  },
  {
   "cell_type": "code",
   "execution_count": 6,
   "id": "cd0d858e",
   "metadata": {},
   "outputs": [
    {
     "name": "stdout",
     "output_type": "stream",
     "text": [
      "Enter the value of a =6\n",
      "Enter the value of b =8\n",
      "Enter + or - or * or / *\n",
      "48\n"
     ]
    }
   ],
   "source": [
    "def add(a,b):\n",
    "    return a+b\n",
    "def sub(a,b):\n",
    "    return a-b\n",
    "def mul(a,b):\n",
    "    return a*b\n",
    "def div(a,b):\n",
    "    return a/b\n",
    "\n",
    "\n",
    "def cal(a,b,o):\n",
    "    if o == \"+\":\n",
    "        print(add(a,b))\n",
    "    elif o == \"-\":\n",
    "        print(sub(a,b))\n",
    "    elif o == \"*\":\n",
    "        print(mul(a,b))\n",
    "    elif o == \"/\":\n",
    "        print(div(a,b))\n",
    "    else:\n",
    "        print(\"Invalid operator\")\n",
    "    \n",
    "a = int(input(\"Enter the value of a =\"))\n",
    "b = int(input(\"Enter the value of b =\"))\n",
    "o = input(\"Enter + or - or * or / \")  \n",
    "cal(a,b,o)"
   ]
  },
  {
   "cell_type": "code",
   "execution_count": 7,
   "id": "85cd43cb",
   "metadata": {},
   "outputs": [
    {
     "name": "stdout",
     "output_type": "stream",
     "text": [
      "Hello World\n",
      "Hello World\n"
     ]
    }
   ],
   "source": [
    "#Recursive Function\n",
    "def hello():\n",
    "    print(\"Hello World\")\n",
    "hello()\n",
    "hello()"
   ]
  },
  {
   "cell_type": "code",
   "execution_count": 8,
   "id": "7c9a56fc",
   "metadata": {},
   "outputs": [
    {
     "name": "stdout",
     "output_type": "stream",
     "text": [
      "Hello World\n",
      "Enter y for more print y\n",
      "Hello World\n",
      "Enter y for more print y\n",
      "Hello World\n",
      "Enter y for more print y\n",
      "Hello World\n",
      "Enter y for more print a\n"
     ]
    }
   ],
   "source": [
    "def hello():\n",
    "    print(\"Hello World\")\n",
    "    x = input(\"Enter y for more print \") \n",
    "    if x == 'y':\n",
    "        hello()\n",
    "hello()"
   ]
  },
  {
   "cell_type": "code",
   "execution_count": 9,
   "id": "0a1aab87",
   "metadata": {},
   "outputs": [
    {
     "name": "stdout",
     "output_type": "stream",
     "text": [
      "Enter the value of length = 5\n",
      "Enter the value of breadth = 4\n",
      "Enter the value of height = 6\n"
     ]
    },
    {
     "data": {
      "text/plain": [
       "20"
      ]
     },
     "execution_count": 9,
     "metadata": {},
     "output_type": "execute_result"
    }
   ],
   "source": [
    "#return\n",
    "def cal(l,b,h):\n",
    "    a = l*b\n",
    "    v =a *h\n",
    "    return a\n",
    "l = int(input(\"Enter the value of length = \"))\n",
    "b = int(input(\"Enter the value of breadth = \"))\n",
    "h = int(input(\"Enter the value of height = \"))\n",
    "cal(l,b,h)"
   ]
  },
  {
   "cell_type": "code",
   "execution_count": 10,
   "id": "7f5fc799",
   "metadata": {},
   "outputs": [],
   "source": [
    "#anonymous function: lambda Function\n",
    "\n",
    "#lambda <argument>:<expression or operation>"
   ]
  },
  {
   "cell_type": "code",
   "execution_count": 11,
   "id": "4127bd44",
   "metadata": {},
   "outputs": [
    {
     "data": {
      "text/plain": [
       "9"
      ]
     },
     "execution_count": 11,
     "metadata": {},
     "output_type": "execute_result"
    }
   ],
   "source": [
    "y = lambda x:x**2\n",
    "y(3)"
   ]
  },
  {
   "cell_type": "code",
   "execution_count": 15,
   "id": "65c8a8cc",
   "metadata": {},
   "outputs": [
    {
     "data": {
      "text/plain": [
       "False"
      ]
     },
     "execution_count": 15,
     "metadata": {},
     "output_type": "execute_result"
    }
   ],
   "source": [
    "y = lambda x:(x%2==0)\n",
    "y(3)"
   ]
  },
  {
   "cell_type": "code",
   "execution_count": 13,
   "id": "ae4ec261",
   "metadata": {},
   "outputs": [
    {
     "name": "stdout",
     "output_type": "stream",
     "text": [
      "50\n"
     ]
    }
   ],
   "source": [
    "area = lambda l,b:l*b\n",
    "print(area(10,5))"
   ]
  },
  {
   "cell_type": "code",
   "execution_count": 16,
   "id": "07998826",
   "metadata": {},
   "outputs": [],
   "source": [
    "#Map function\n",
    "#filtering function"
   ]
  },
  {
   "cell_type": "code",
   "execution_count": 17,
   "id": "ad75466c",
   "metadata": {},
   "outputs": [],
   "source": [
    "#filter fun\n",
    "#list(filter(lambda <agrument>:<expression>,list)) (to chose the outcome if we want the data to come out in list, tuple etc)\n",
    "#filter(lambda x:x%2==0)"
   ]
  },
  {
   "cell_type": "code",
   "execution_count": 19,
   "id": "e0a8bbfa",
   "metadata": {},
   "outputs": [
    {
     "data": {
      "text/plain": [
       "[32, 34, 6, 78, 54, 8, 2, 6]"
      ]
     },
     "execution_count": 19,
     "metadata": {},
     "output_type": "execute_result"
    }
   ],
   "source": [
    "l =[32,45,65,34,6,78,54,7,8,89,89,2,45,6]\n",
    "list(filter(lambda x:x%2==0,l))"
   ]
  },
  {
   "cell_type": "code",
   "execution_count": 20,
   "id": "0439c75e",
   "metadata": {},
   "outputs": [
    {
     "data": {
      "text/plain": [
       "['BALL', 'DOG']"
      ]
     },
     "execution_count": 20,
     "metadata": {},
     "output_type": "execute_result"
    }
   ],
   "source": [
    "l = ['Apple','BALL','Cat','DOG','Fish','Goat']\n",
    "list(filter(lambda x:x.isupper(),l))"
   ]
  },
  {
   "cell_type": "code",
   "execution_count": 21,
   "id": "7539e26d",
   "metadata": {},
   "outputs": [
    {
     "data": {
      "text/plain": [
       "['bALL', 'fish']"
      ]
     },
     "execution_count": 21,
     "metadata": {},
     "output_type": "execute_result"
    }
   ],
   "source": [
    "l = ['Apple','bALL','Cat','DOG','fish','Goat']\n",
    "list(filter(lambda x:x[0].islower(),l))"
   ]
  },
  {
   "cell_type": "code",
   "execution_count": 22,
   "id": "9c0fbb83",
   "metadata": {},
   "outputs": [],
   "source": [
    "#Map Function\n",
    "#list(map(lambda <agrument>:<expression>,list))"
   ]
  },
  {
   "cell_type": "code",
   "execution_count": 24,
   "id": "e8c436d7",
   "metadata": {},
   "outputs": [
    {
     "data": {
      "text/plain": [
       "[11000, 33000, 44000, 22000, 55000, 110000, 220000, 330000]"
      ]
     },
     "execution_count": 24,
     "metadata": {},
     "output_type": "execute_result"
    }
   ],
   "source": [
    "salary =[10000,30000,40000,20000,50000,100000,200000,300000]\n",
    "list(map(lambda x:int(x*1.1),salary))"
   ]
  },
  {
   "cell_type": "code",
   "execution_count": 25,
   "id": "c71b76f3",
   "metadata": {},
   "outputs": [
    {
     "data": {
      "text/plain": [
       "['apple', 'ball', 'cat', 'dog', 'fish', 'goat', 'ant']"
      ]
     },
     "execution_count": 25,
     "metadata": {},
     "output_type": "execute_result"
    }
   ],
   "source": [
    "l = ['Apple','BALL','Cat','DOG','Fish','Goat','ant']\n",
    "list(map(lambda x:x.lower(),l))"
   ]
  },
  {
   "cell_type": "code",
   "execution_count": null,
   "id": "57834e6e",
   "metadata": {},
   "outputs": [],
   "source": [
    "#math function in python"
   ]
  }
 ],
 "metadata": {
  "kernelspec": {
   "display_name": "Python 3 (ipykernel)",
   "language": "python",
   "name": "python3"
  },
  "language_info": {
   "codemirror_mode": {
    "name": "ipython",
    "version": 3
   },
   "file_extension": ".py",
   "mimetype": "text/x-python",
   "name": "python",
   "nbconvert_exporter": "python",
   "pygments_lexer": "ipython3",
   "version": "3.10.9"
  }
 },
 "nbformat": 4,
 "nbformat_minor": 5
}
