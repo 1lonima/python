{
 "cells": [
  {
   "cell_type": "code",
   "execution_count": 1,
   "id": "7564d64b",
   "metadata": {},
   "outputs": [
    {
     "name": "stdout",
     "output_type": "stream",
     "text": [
      "2023-06-19 08:24:48.016272\n"
     ]
    }
   ],
   "source": [
    "#Date and time package\n",
    "\n",
    "import datetime as dt\n",
    "\n",
    "x= dt.datetime.now()\n",
    "print(x) #shows the date and time of the computer"
   ]
  },
  {
   "cell_type": "code",
   "execution_count": 2,
   "id": "63b2a229",
   "metadata": {},
   "outputs": [
    {
     "name": "stdout",
     "output_type": "stream",
     "text": [
      "2023\n",
      "6\n",
      "19\n",
      "8\n"
     ]
    }
   ],
   "source": [
    "x= dt.datetime.now()\n",
    "print(x.year)\n",
    "print(x.month)\n",
    "print(x.day)\n",
    "print(x.hour)"
   ]
  },
  {
   "cell_type": "code",
   "execution_count": 5,
   "id": "b4503fe9",
   "metadata": {},
   "outputs": [
    {
     "name": "stdout",
     "output_type": "stream",
     "text": [
      "Monday\n",
      "Mon\n",
      "June\n",
      "Jun\n",
      "20\n",
      "Mon Jun 19 08:26:36 2023\n",
      "06/19/23\n",
      "19\n"
     ]
    }
   ],
   "source": [
    "print(x.strftime(\"%A\"))\n",
    "print(x.strftime(\"%a\"))\n",
    "print(x.strftime(\"%B\"))\n",
    "print(x.strftime(\"%b\"))\n",
    "print(x.strftime(\"%C\"))\n",
    "print(x.strftime(\"%c\"))\n",
    "print(x.strftime(\"%D\"))\n",
    "print(x.strftime(\"%d\"))"
   ]
  },
  {
   "cell_type": "code",
   "execution_count": 7,
   "id": "f583414c",
   "metadata": {},
   "outputs": [
    {
     "name": "stdout",
     "output_type": "stream",
     "text": [
      "Enter name = Lonima\n",
      "0:00:06.612542\n"
     ]
    }
   ],
   "source": [
    "x = dt.datetime.now()\n",
    "name = input(\"Enter name = \")\n",
    "y = dt.datetime.now()\n",
    "print(y-x)"
   ]
  },
  {
   "cell_type": "code",
   "execution_count": 10,
   "id": "33b7c0da",
   "metadata": {},
   "outputs": [
    {
     "name": "stdout",
     "output_type": "stream",
     "text": [
      "Enter OTP code = bjhhb\n",
      "You took 6 seconds. Your time is out\n"
     ]
    }
   ],
   "source": [
    "x = dt.datetime.now().second\n",
    "otp = input(\"Enter OTP code = \")\n",
    "y = dt.datetime.now().second\n",
    "if y-x<5:\n",
    "    print(\"Please collect your cash \")\n",
    "else:\n",
    "    print(f\"You took {y-x} seconds.\",\"Your time is out\")\n"
   ]
  },
  {
   "cell_type": "code",
   "execution_count": 11,
   "id": "677e4409",
   "metadata": {
    "scrolled": true
   },
   "outputs": [
    {
     "data": {
      "text/plain": [
       "['.ipynb_checkpoints',\n",
       " 'beginner basic.ipynb',\n",
       " 'bonus.ipynb',\n",
       " 'boooks.csv',\n",
       " 'class.ipynb',\n",
       " 'data.csv',\n",
       " 'data.txt',\n",
       " 'data1.csv',\n",
       " 'data1.txt',\n",
       " 'Dictionary.ipynb',\n",
       " 'encapsulation.ipynb',\n",
       " 'file.ipynb',\n",
       " 'functions.ipynb',\n",
       " 'if else.ipynb',\n",
       " 'Inheritance.ipynb',\n",
       " 'list.ipynb',\n",
       " 'new_data.csv',\n",
       " 'OOP- polymorphism.ipynb',\n",
       " 'pandas.ipynb',\n",
       " 'range loop.ipynb',\n",
       " 'String.ipynb',\n",
       " 'tuples and set.ipynb']"
      ]
     },
     "execution_count": 11,
     "metadata": {},
     "output_type": "execute_result"
    }
   ],
   "source": [
    "#OS package\n",
    "import os\n",
    "os.listdir()  #shows all the files in the folder"
   ]
  },
  {
   "cell_type": "code",
   "execution_count": 12,
   "id": "480c3922",
   "metadata": {},
   "outputs": [],
   "source": [
    "os.mkdir('newfolder') #creates a folder in the name of \"new folder\""
   ]
  },
  {
   "cell_type": "code",
   "execution_count": 13,
   "id": "8d862f92",
   "metadata": {},
   "outputs": [],
   "source": [
    "os.chdir('newfolder') #takes us inside the folder"
   ]
  },
  {
   "cell_type": "code",
   "execution_count": 14,
   "id": "0fb78b25",
   "metadata": {},
   "outputs": [
    {
     "data": {
      "text/plain": [
       "'C:\\\\Users\\\\risha\\\\python class\\\\newfolder'"
      ]
     },
     "execution_count": 14,
     "metadata": {},
     "output_type": "execute_result"
    }
   ],
   "source": [
    "pwd"
   ]
  },
  {
   "cell_type": "code",
   "execution_count": 15,
   "id": "81a8d8b5",
   "metadata": {},
   "outputs": [
    {
     "name": "stdout",
     "output_type": "stream",
     "text": [
      "C:\\Users\\risha\\python class\n"
     ]
    }
   ],
   "source": [
    "cd .. #gets us out of the folder"
   ]
  },
  {
   "cell_type": "code",
   "execution_count": 16,
   "id": "577e8bba",
   "metadata": {},
   "outputs": [],
   "source": [
    "os.rename('newfolder','New_Folder')"
   ]
  },
  {
   "cell_type": "code",
   "execution_count": 17,
   "id": "32379396",
   "metadata": {},
   "outputs": [],
   "source": [
    "os.rmdir('New_Folder') #removes the folder"
   ]
  },
  {
   "cell_type": "code",
   "execution_count": null,
   "id": "c0f13891",
   "metadata": {},
   "outputs": [],
   "source": [
    "# comprehensions: List, Dictionary"
   ]
  },
  {
   "cell_type": "code",
   "execution_count": 18,
   "id": "2edbdf56",
   "metadata": {},
   "outputs": [
    {
     "name": "stdout",
     "output_type": "stream",
     "text": [
      "[0, 1, 2, 3, 4, 5, 6, 7, 8, 9]\n"
     ]
    }
   ],
   "source": [
    "# comprehension in list \n",
    "l = [i for i in range (10)]\n",
    "print(l)"
   ]
  },
  {
   "cell_type": "code",
   "execution_count": 19,
   "id": "d8571457",
   "metadata": {},
   "outputs": [
    {
     "name": "stdout",
     "output_type": "stream",
     "text": [
      "Enter values = Sheetal\n",
      "Enter values = Sita\n",
      "Enter values = Gita\n",
      "Enter values = Champa\n",
      "Enter values = Devi\n",
      "['Sheetal', 'Sita', 'Gita', 'Champa', 'Devi']\n"
     ]
    }
   ],
   "source": [
    " l = [input(\"Enter values = \") for i in range (5)]\n",
    "print(l)"
   ]
  },
  {
   "cell_type": "code",
   "execution_count": 20,
   "id": "e716b3ce",
   "metadata": {},
   "outputs": [
    {
     "name": "stdout",
     "output_type": "stream",
     "text": [
      "['apple', 'ball', 'cat', 'dog']\n"
     ]
    }
   ],
   "source": [
    "l =['Apple','Ball','Cat','dog']\n",
    "data = [i.lower() for i in l]\n",
    "print(data)"
   ]
  },
  {
   "cell_type": "code",
   "execution_count": 22,
   "id": "f123c949",
   "metadata": {},
   "outputs": [
    {
     "name": "stdout",
     "output_type": "stream",
     "text": [
      "{'Apple': 'apple', 'Ball': 'ball', 'Cat': 'cat', 'dog': 'dog'}\n"
     ]
    }
   ],
   "source": [
    "#comprehension in dictionary\n",
    "l =['Apple','Ball','Cat','dog']\n",
    "d = {i:i.lower() for i in l}\n",
    "print(d)"
   ]
  },
  {
   "cell_type": "code",
   "execution_count": 23,
   "id": "234e5486",
   "metadata": {},
   "outputs": [
    {
     "data": {
      "text/plain": [
       "['apple', 'ball', 'cat', 'dog']"
      ]
     },
     "execution_count": 23,
     "metadata": {},
     "output_type": "execute_result"
    }
   ],
   "source": [
    "list(d.values())"
   ]
  },
  {
   "cell_type": "code",
   "execution_count": 24,
   "id": "63bb966b",
   "metadata": {},
   "outputs": [
    {
     "data": {
      "text/plain": [
       "[('Apple', 'apple'), ('Ball', 'ball'), ('Cat', 'cat'), ('dog', 'dog')]"
      ]
     },
     "execution_count": 24,
     "metadata": {},
     "output_type": "execute_result"
    }
   ],
   "source": [
    "list(d.items())"
   ]
  },
  {
   "cell_type": "code",
   "execution_count": 27,
   "id": "12788b63",
   "metadata": {},
   "outputs": [
    {
     "name": "stdout",
     "output_type": "stream",
     "text": [
      "Enter name =Samriddhi\n",
      "Enter phone =9841767420\n",
      "Enter name =Lonima\n",
      "Enter phone =9851217895\n",
      "Enter name =Neelima\n",
      "Enter phone =9849257895\n",
      "Enter name =jeny\n",
      "Enter phone =9849213848\n",
      "Enter name =Lokendra\n",
      "Enter phone =9841386619\n",
      "{'Samriddhi': '9841767420', 'Lonima': '9851217895', 'Neelima': '9849257895', 'jeny': '9849213848', 'Lokendra': '9841386619'}\n"
     ]
    }
   ],
   "source": [
    "d = {input(\"Enter name =\"):input(\"Enter phone =\") for i in range(5)}\n",
    "print(d)"
   ]
  },
  {
   "cell_type": "code",
   "execution_count": null,
   "id": "7ff18e82",
   "metadata": {},
   "outputs": [],
   "source": [
    "#Tkinter #Desktop application creation\n",
    "#Kivy"
   ]
  }
 ],
 "metadata": {
  "kernelspec": {
   "display_name": "Python 3 (ipykernel)",
   "language": "python",
   "name": "python3"
  },
  "language_info": {
   "codemirror_mode": {
    "name": "ipython",
    "version": 3
   },
   "file_extension": ".py",
   "mimetype": "text/x-python",
   "name": "python",
   "nbconvert_exporter": "python",
   "pygments_lexer": "ipython3",
   "version": "3.10.9"
  }
 },
 "nbformat": 4,
 "nbformat_minor": 5
}
